{
 "cells": [
  {
   "cell_type": "markdown",
   "id": "de9d9737616514b8",
   "metadata": {
    "collapsed": false
   },
   "source": [
    "## Az eredményeket mentsd a src/weekly modul-ba weekly_test_6.py néven"
   ]
  },
  {
   "cell_type": "markdown",
   "id": "a9789db8f0fbd7ec",
   "metadata": {
    "collapsed": false
   },
   "source": [
    "#### Használható modulok: pathlib, pandas, typing, str, statsmodels"
   ]
  },
  {
   "cell_type": "code",
   "execution_count": 1,
   "id": "dfea6e648868022e",
   "metadata": {
    "collapsed": false,
    "ExecuteTime": {
     "end_time": "2023-10-25T17:24:00.040679900Z",
     "start_time": "2023-10-25T17:24:00.011699200Z"
    }
   },
   "outputs": [],
   "source": [
    "from pathlib import Path"
   ]
  },
  {
   "cell_type": "code",
   "execution_count": 2,
   "outputs": [],
   "source": [
    "datalib = Path.cwd().parent.joinpath('data')"
   ],
   "metadata": {
    "collapsed": false,
    "ExecuteTime": {
     "end_time": "2023-10-25T17:24:06.278606700Z",
     "start_time": "2023-10-25T17:24:06.252618700Z"
    }
   },
   "id": "b0b5dd4685315eda"
  },
  {
   "cell_type": "code",
   "execution_count": null,
   "id": "9d26aec7b4e97407",
   "metadata": {
    "collapsed": false
   },
   "outputs": [],
   "source": [
    "\"\"\"\n",
    "1., Olvasd be a data mappa sp500.parquet nevű fájlját egy DataFrame-be. A betöltéshez használt engine paramétere legyen fastparquet\n",
    "\"\"\""
   ]
  },
  {
   "cell_type": "code",
   "execution_count": 23,
   "outputs": [
    {
     "data": {
      "text/plain": "           Symbol  Monthly Returns\nDate                              \n2000-02-29      A         0.569405\n2000-03-31      A         0.001203\n2000-05-31      A        -0.169252\n2000-06-30      A         0.001698\n2000-07-31      A        -0.447458",
      "text/html": "<div>\n<style scoped>\n    .dataframe tbody tr th:only-of-type {\n        vertical-align: middle;\n    }\n\n    .dataframe tbody tr th {\n        vertical-align: top;\n    }\n\n    .dataframe thead th {\n        text-align: right;\n    }\n</style>\n<table border=\"1\" class=\"dataframe\">\n  <thead>\n    <tr style=\"text-align: right;\">\n      <th></th>\n      <th>Symbol</th>\n      <th>Monthly Returns</th>\n    </tr>\n    <tr>\n      <th>Date</th>\n      <th></th>\n      <th></th>\n    </tr>\n  </thead>\n  <tbody>\n    <tr>\n      <th>2000-02-29</th>\n      <td>A</td>\n      <td>0.569405</td>\n    </tr>\n    <tr>\n      <th>2000-03-31</th>\n      <td>A</td>\n      <td>0.001203</td>\n    </tr>\n    <tr>\n      <th>2000-05-31</th>\n      <td>A</td>\n      <td>-0.169252</td>\n    </tr>\n    <tr>\n      <th>2000-06-30</th>\n      <td>A</td>\n      <td>0.001698</td>\n    </tr>\n    <tr>\n      <th>2000-07-31</th>\n      <td>A</td>\n      <td>-0.447458</td>\n    </tr>\n  </tbody>\n</table>\n</div>"
     },
     "execution_count": 23,
     "metadata": {},
     "output_type": "execute_result"
    }
   ],
   "source": [
    "import pandas as pd\n",
    "\n",
    "df_sp500 = pd.read_parquet('../data/sp500.parquet', engine='fastparquet')\n",
    "\n",
    "df_sp500.head()"
   ],
   "metadata": {
    "collapsed": false,
    "ExecuteTime": {
     "end_time": "2023-10-25T18:09:53.323071700Z",
     "start_time": "2023-10-25T18:09:53.209037600Z"
    }
   },
   "id": "43f685fc4780d23a"
  },
  {
   "cell_type": "code",
   "execution_count": null,
   "outputs": [],
   "source": [
    "\"\"\"\n",
    "2., Olvasd be az ff_factors.parquet fájlt egy DataFrame-be. A betöltéshez használt engine paramétere legyen fastparquet\n",
    "\"\"\""
   ],
   "metadata": {
    "collapsed": false
   },
   "id": "d42ee754b557dcef"
  },
  {
   "cell_type": "code",
   "execution_count": 25,
   "outputs": [
    {
     "data": {
      "text/plain": "            Mkt-RF     SMB     HML     RF\nDate                                     \n1926-07-31  0.0296 -0.0256 -0.0243  0.022\n1926-08-31  0.0264 -0.0117  0.0382  0.025\n1926-09-30  0.0036 -0.0140  0.0013  0.023\n1926-10-31 -0.0324 -0.0009  0.0070  0.032\n1926-11-30  0.0253 -0.0010 -0.0051  0.031",
      "text/html": "<div>\n<style scoped>\n    .dataframe tbody tr th:only-of-type {\n        vertical-align: middle;\n    }\n\n    .dataframe tbody tr th {\n        vertical-align: top;\n    }\n\n    .dataframe thead th {\n        text-align: right;\n    }\n</style>\n<table border=\"1\" class=\"dataframe\">\n  <thead>\n    <tr style=\"text-align: right;\">\n      <th></th>\n      <th>Mkt-RF</th>\n      <th>SMB</th>\n      <th>HML</th>\n      <th>RF</th>\n    </tr>\n    <tr>\n      <th>Date</th>\n      <th></th>\n      <th></th>\n      <th></th>\n      <th></th>\n    </tr>\n  </thead>\n  <tbody>\n    <tr>\n      <th>1926-07-31</th>\n      <td>0.0296</td>\n      <td>-0.0256</td>\n      <td>-0.0243</td>\n      <td>0.022</td>\n    </tr>\n    <tr>\n      <th>1926-08-31</th>\n      <td>0.0264</td>\n      <td>-0.0117</td>\n      <td>0.0382</td>\n      <td>0.025</td>\n    </tr>\n    <tr>\n      <th>1926-09-30</th>\n      <td>0.0036</td>\n      <td>-0.0140</td>\n      <td>0.0013</td>\n      <td>0.023</td>\n    </tr>\n    <tr>\n      <th>1926-10-31</th>\n      <td>-0.0324</td>\n      <td>-0.0009</td>\n      <td>0.0070</td>\n      <td>0.032</td>\n    </tr>\n    <tr>\n      <th>1926-11-30</th>\n      <td>0.0253</td>\n      <td>-0.0010</td>\n      <td>-0.0051</td>\n      <td>0.031</td>\n    </tr>\n  </tbody>\n</table>\n</div>"
     },
     "execution_count": 25,
     "metadata": {},
     "output_type": "execute_result"
    }
   ],
   "source": [
    "import pandas as pd\n",
    "\n",
    "df_ff_factors = pd.read_parquet('../data/ff_factors.parquet', engine='fastparquet')\n",
    "\n",
    "df_ff_factors.head()"
   ],
   "metadata": {
    "collapsed": false,
    "ExecuteTime": {
     "end_time": "2023-10-25T18:12:02.962012400Z",
     "start_time": "2023-10-25T18:12:02.907882100Z"
    }
   },
   "id": "2f8bbbf60691521c"
  },
  {
   "cell_type": "code",
   "execution_count": null,
   "id": "b79c977da040d844",
   "metadata": {
    "collapsed": false
   },
   "outputs": [],
   "source": [
    "\"\"\"\n",
    "3., Kapcsold össze a két DataFrame-t egy új DataFrame-be. Az összekapcsolás módja, hogy a hozam adatokra balról kapcsoljuk rá a factor adatokat a 'Date' elsődleges kulcs alapján.\n",
    "\"\"\""
   ]
  },
  {
   "cell_type": "markdown",
   "source": [
    "![Joined data](../resources/weekly6/joined_data.jpg)"
   ],
   "metadata": {
    "collapsed": false
   },
   "id": "cf54c6765186a23e"
  },
  {
   "cell_type": "code",
   "execution_count": 27,
   "outputs": [
    {
     "data": {
      "text/plain": "           Symbol  Monthly Returns  Mkt-RF     SMB     HML     RF\nDate                                                             \n2000-02-29      A         0.569405  0.0245  0.2136 -0.0959  0.043\n2000-03-31      A         0.001203  0.0520 -0.1720  0.0813  0.047\n2000-05-31      A        -0.169252 -0.0442 -0.0605  0.0475  0.050\n2000-06-30      A         0.001698  0.0464  0.1284 -0.0842  0.040\n2000-07-31      A        -0.447458 -0.0251 -0.0307  0.0831  0.048",
      "text/html": "<div>\n<style scoped>\n    .dataframe tbody tr th:only-of-type {\n        vertical-align: middle;\n    }\n\n    .dataframe tbody tr th {\n        vertical-align: top;\n    }\n\n    .dataframe thead th {\n        text-align: right;\n    }\n</style>\n<table border=\"1\" class=\"dataframe\">\n  <thead>\n    <tr style=\"text-align: right;\">\n      <th></th>\n      <th>Symbol</th>\n      <th>Monthly Returns</th>\n      <th>Mkt-RF</th>\n      <th>SMB</th>\n      <th>HML</th>\n      <th>RF</th>\n    </tr>\n    <tr>\n      <th>Date</th>\n      <th></th>\n      <th></th>\n      <th></th>\n      <th></th>\n      <th></th>\n      <th></th>\n    </tr>\n  </thead>\n  <tbody>\n    <tr>\n      <th>2000-02-29</th>\n      <td>A</td>\n      <td>0.569405</td>\n      <td>0.0245</td>\n      <td>0.2136</td>\n      <td>-0.0959</td>\n      <td>0.043</td>\n    </tr>\n    <tr>\n      <th>2000-03-31</th>\n      <td>A</td>\n      <td>0.001203</td>\n      <td>0.0520</td>\n      <td>-0.1720</td>\n      <td>0.0813</td>\n      <td>0.047</td>\n    </tr>\n    <tr>\n      <th>2000-05-31</th>\n      <td>A</td>\n      <td>-0.169252</td>\n      <td>-0.0442</td>\n      <td>-0.0605</td>\n      <td>0.0475</td>\n      <td>0.050</td>\n    </tr>\n    <tr>\n      <th>2000-06-30</th>\n      <td>A</td>\n      <td>0.001698</td>\n      <td>0.0464</td>\n      <td>0.1284</td>\n      <td>-0.0842</td>\n      <td>0.040</td>\n    </tr>\n    <tr>\n      <th>2000-07-31</th>\n      <td>A</td>\n      <td>-0.447458</td>\n      <td>-0.0251</td>\n      <td>-0.0307</td>\n      <td>0.0831</td>\n      <td>0.048</td>\n    </tr>\n  </tbody>\n</table>\n</div>"
     },
     "execution_count": 27,
     "metadata": {},
     "output_type": "execute_result"
    }
   ],
   "source": [
    "merged_df = pd.merge(df_sp500, df_ff_factors, on='Date', how='left')\n",
    "\n",
    "merged_df.head()"
   ],
   "metadata": {
    "collapsed": false,
    "ExecuteTime": {
     "end_time": "2023-10-25T18:13:53.602171200Z",
     "start_time": "2023-10-25T18:13:53.531602800Z"
    }
   },
   "id": "34bc40351687c32"
  },
  {
   "cell_type": "code",
   "execution_count": null,
   "id": "dd10fafbf699543d",
   "metadata": {
    "collapsed": false
   },
   "outputs": [],
   "source": [
    "\"\"\"\n",
    "4., Készíts egy új 'Excess Return' nevű oszlopot, ami a havi hozamok és a kockázat mentes hozam (RF) különbsége\n",
    "\"\"\""
   ]
  },
  {
   "cell_type": "code",
   "execution_count": 28,
   "outputs": [
    {
     "data": {
      "text/plain": "           Symbol  Monthly Returns  Mkt-RF     SMB     HML     RF  \\\nDate                                                                \n2000-02-29      A         0.569405  0.0245  0.2136 -0.0959  0.043   \n2000-03-31      A         0.001203  0.0520 -0.1720  0.0813  0.047   \n2000-05-31      A        -0.169252 -0.0442 -0.0605  0.0475  0.050   \n2000-06-30      A         0.001698  0.0464  0.1284 -0.0842  0.040   \n2000-07-31      A        -0.447458 -0.0251 -0.0307  0.0831  0.048   \n\n            Excess Return  \nDate                       \n2000-02-29       0.526405  \n2000-03-31      -0.045797  \n2000-05-31      -0.219252  \n2000-06-30      -0.038302  \n2000-07-31      -0.495458  ",
      "text/html": "<div>\n<style scoped>\n    .dataframe tbody tr th:only-of-type {\n        vertical-align: middle;\n    }\n\n    .dataframe tbody tr th {\n        vertical-align: top;\n    }\n\n    .dataframe thead th {\n        text-align: right;\n    }\n</style>\n<table border=\"1\" class=\"dataframe\">\n  <thead>\n    <tr style=\"text-align: right;\">\n      <th></th>\n      <th>Symbol</th>\n      <th>Monthly Returns</th>\n      <th>Mkt-RF</th>\n      <th>SMB</th>\n      <th>HML</th>\n      <th>RF</th>\n      <th>Excess Return</th>\n    </tr>\n    <tr>\n      <th>Date</th>\n      <th></th>\n      <th></th>\n      <th></th>\n      <th></th>\n      <th></th>\n      <th></th>\n      <th></th>\n    </tr>\n  </thead>\n  <tbody>\n    <tr>\n      <th>2000-02-29</th>\n      <td>A</td>\n      <td>0.569405</td>\n      <td>0.0245</td>\n      <td>0.2136</td>\n      <td>-0.0959</td>\n      <td>0.043</td>\n      <td>0.526405</td>\n    </tr>\n    <tr>\n      <th>2000-03-31</th>\n      <td>A</td>\n      <td>0.001203</td>\n      <td>0.0520</td>\n      <td>-0.1720</td>\n      <td>0.0813</td>\n      <td>0.047</td>\n      <td>-0.045797</td>\n    </tr>\n    <tr>\n      <th>2000-05-31</th>\n      <td>A</td>\n      <td>-0.169252</td>\n      <td>-0.0442</td>\n      <td>-0.0605</td>\n      <td>0.0475</td>\n      <td>0.050</td>\n      <td>-0.219252</td>\n    </tr>\n    <tr>\n      <th>2000-06-30</th>\n      <td>A</td>\n      <td>0.001698</td>\n      <td>0.0464</td>\n      <td>0.1284</td>\n      <td>-0.0842</td>\n      <td>0.040</td>\n      <td>-0.038302</td>\n    </tr>\n    <tr>\n      <th>2000-07-31</th>\n      <td>A</td>\n      <td>-0.447458</td>\n      <td>-0.0251</td>\n      <td>-0.0307</td>\n      <td>0.0831</td>\n      <td>0.048</td>\n      <td>-0.495458</td>\n    </tr>\n  </tbody>\n</table>\n</div>"
     },
     "execution_count": 28,
     "metadata": {},
     "output_type": "execute_result"
    }
   ],
   "source": [
    "merged_df['Excess Return'] = merged_df['Monthly Returns'] - merged_df['RF']\n",
    "\n",
    "merged_df.head()"
   ],
   "metadata": {
    "collapsed": false,
    "ExecuteTime": {
     "end_time": "2023-10-25T18:14:07.597633800Z",
     "start_time": "2023-10-25T18:14:07.548985200Z"
    }
   },
   "id": "fdc8822a72cb19f6"
  },
  {
   "cell_type": "code",
   "execution_count": null,
   "outputs": [],
   "source": [
    "\"\"\"\n",
    "5., Rendezd sorba dátum szerint az adatokat, majd generálj egy új oszlopot ('ex_ret_1'), amely minden ticker ('Symbol') esetén 1-el eltolja az Excess Return értékeit olyan módon, hogy minden sorban szerepeljen a következő időszaki Excess Return érték. \n",
    "\"\"\""
   ],
   "metadata": {
    "collapsed": false
   },
   "id": "c6af93a4a3c53398"
  },
  {
   "cell_type": "markdown",
   "source": [
    "![new column](../resources/weekly6/ex_ret_1.jpg)"
   ],
   "metadata": {
    "collapsed": false
   },
   "id": "a6be746933376572"
  },
  {
   "cell_type": "code",
   "execution_count": 29,
   "outputs": [
    {
     "data": {
      "text/plain": "           Symbol  Monthly Returns  Mkt-RF     SMB     HML     RF  \\\nDate                                                                \n2000-01-31   AAPL        -0.938186 -0.0474  0.0577 -0.0188  0.041   \n2000-01-31    ABT        -0.900699 -0.0474  0.0577 -0.0188  0.041   \n2000-01-31   ACGL        -0.984903 -0.0474  0.0577 -0.0188  0.041   \n2000-01-31   ADBE        -0.947964 -0.0474  0.0577 -0.0188  0.041   \n2000-01-31    ADI        -0.911564 -0.0474  0.0577 -0.0188  0.041   \n\n            Excess Return  ex_ret_1  \nDate                                 \n2000-01-31      -0.979186  0.061820  \n2000-01-31      -0.941699 -0.029564  \n2000-01-31      -1.025903 -0.000265  \n2000-01-31      -0.988964  0.809441  \n2000-01-31      -0.952564  0.638818  ",
      "text/html": "<div>\n<style scoped>\n    .dataframe tbody tr th:only-of-type {\n        vertical-align: middle;\n    }\n\n    .dataframe tbody tr th {\n        vertical-align: top;\n    }\n\n    .dataframe thead th {\n        text-align: right;\n    }\n</style>\n<table border=\"1\" class=\"dataframe\">\n  <thead>\n    <tr style=\"text-align: right;\">\n      <th></th>\n      <th>Symbol</th>\n      <th>Monthly Returns</th>\n      <th>Mkt-RF</th>\n      <th>SMB</th>\n      <th>HML</th>\n      <th>RF</th>\n      <th>Excess Return</th>\n      <th>ex_ret_1</th>\n    </tr>\n    <tr>\n      <th>Date</th>\n      <th></th>\n      <th></th>\n      <th></th>\n      <th></th>\n      <th></th>\n      <th></th>\n      <th></th>\n      <th></th>\n    </tr>\n  </thead>\n  <tbody>\n    <tr>\n      <th>2000-01-31</th>\n      <td>AAPL</td>\n      <td>-0.938186</td>\n      <td>-0.0474</td>\n      <td>0.0577</td>\n      <td>-0.0188</td>\n      <td>0.041</td>\n      <td>-0.979186</td>\n      <td>0.061820</td>\n    </tr>\n    <tr>\n      <th>2000-01-31</th>\n      <td>ABT</td>\n      <td>-0.900699</td>\n      <td>-0.0474</td>\n      <td>0.0577</td>\n      <td>-0.0188</td>\n      <td>0.041</td>\n      <td>-0.941699</td>\n      <td>-0.029564</td>\n    </tr>\n    <tr>\n      <th>2000-01-31</th>\n      <td>ACGL</td>\n      <td>-0.984903</td>\n      <td>-0.0474</td>\n      <td>0.0577</td>\n      <td>-0.0188</td>\n      <td>0.041</td>\n      <td>-1.025903</td>\n      <td>-0.000265</td>\n    </tr>\n    <tr>\n      <th>2000-01-31</th>\n      <td>ADBE</td>\n      <td>-0.947964</td>\n      <td>-0.0474</td>\n      <td>0.0577</td>\n      <td>-0.0188</td>\n      <td>0.041</td>\n      <td>-0.988964</td>\n      <td>0.809441</td>\n    </tr>\n    <tr>\n      <th>2000-01-31</th>\n      <td>ADI</td>\n      <td>-0.911564</td>\n      <td>-0.0474</td>\n      <td>0.0577</td>\n      <td>-0.0188</td>\n      <td>0.041</td>\n      <td>-0.952564</td>\n      <td>0.638818</td>\n    </tr>\n  </tbody>\n</table>\n</div>"
     },
     "execution_count": 29,
     "metadata": {},
     "output_type": "execute_result"
    }
   ],
   "source": [
    "merged_df = merged_df.sort_values(by=['Date', 'Symbol'])\n",
    "\n",
    "merged_df['ex_ret_1'] = merged_df.groupby('Symbol')['Excess Return'].shift(-1)\n",
    "\n",
    "merged_df.head()"
   ],
   "metadata": {
    "collapsed": false,
    "ExecuteTime": {
     "end_time": "2023-10-25T18:14:17.260615600Z",
     "start_time": "2023-10-25T18:14:17.136273800Z"
    }
   },
   "id": "2285003630c207d3"
  },
  {
   "cell_type": "code",
   "execution_count": null,
   "id": "30fd1aa0c59afb47",
   "metadata": {
    "collapsed": false
   },
   "outputs": [],
   "source": [
    "\"\"\"\n",
    "6., A meglévő adathalmazt írd felül olyan módon, hogy egyszer törlöd az össze olyan sort, amely az 'ex_ret_1' oszlopban hiányos, majd ezt követően, törlöd az összes olyan sort, ami a 'HML' oszlopban hiányos\n",
    "\"\"\""
   ]
  },
  {
   "cell_type": "code",
   "execution_count": 30,
   "outputs": [
    {
     "data": {
      "text/plain": "           Symbol  Monthly Returns  Mkt-RF     SMB     HML     RF  \\\nDate                                                                \n2000-01-31   AAPL        -0.938186 -0.0474  0.0577 -0.0188  0.041   \n2000-01-31    ABT        -0.900699 -0.0474  0.0577 -0.0188  0.041   \n2000-01-31   ACGL        -0.984903 -0.0474  0.0577 -0.0188  0.041   \n2000-01-31   ADBE        -0.947964 -0.0474  0.0577 -0.0188  0.041   \n2000-01-31    ADI        -0.911564 -0.0474  0.0577 -0.0188  0.041   \n\n            Excess Return  ex_ret_1  \nDate                                 \n2000-01-31      -0.979186  0.061820  \n2000-01-31      -0.941699 -0.029564  \n2000-01-31      -1.025903 -0.000265  \n2000-01-31      -0.988964  0.809441  \n2000-01-31      -0.952564  0.638818  ",
      "text/html": "<div>\n<style scoped>\n    .dataframe tbody tr th:only-of-type {\n        vertical-align: middle;\n    }\n\n    .dataframe tbody tr th {\n        vertical-align: top;\n    }\n\n    .dataframe thead th {\n        text-align: right;\n    }\n</style>\n<table border=\"1\" class=\"dataframe\">\n  <thead>\n    <tr style=\"text-align: right;\">\n      <th></th>\n      <th>Symbol</th>\n      <th>Monthly Returns</th>\n      <th>Mkt-RF</th>\n      <th>SMB</th>\n      <th>HML</th>\n      <th>RF</th>\n      <th>Excess Return</th>\n      <th>ex_ret_1</th>\n    </tr>\n    <tr>\n      <th>Date</th>\n      <th></th>\n      <th></th>\n      <th></th>\n      <th></th>\n      <th></th>\n      <th></th>\n      <th></th>\n      <th></th>\n    </tr>\n  </thead>\n  <tbody>\n    <tr>\n      <th>2000-01-31</th>\n      <td>AAPL</td>\n      <td>-0.938186</td>\n      <td>-0.0474</td>\n      <td>0.0577</td>\n      <td>-0.0188</td>\n      <td>0.041</td>\n      <td>-0.979186</td>\n      <td>0.061820</td>\n    </tr>\n    <tr>\n      <th>2000-01-31</th>\n      <td>ABT</td>\n      <td>-0.900699</td>\n      <td>-0.0474</td>\n      <td>0.0577</td>\n      <td>-0.0188</td>\n      <td>0.041</td>\n      <td>-0.941699</td>\n      <td>-0.029564</td>\n    </tr>\n    <tr>\n      <th>2000-01-31</th>\n      <td>ACGL</td>\n      <td>-0.984903</td>\n      <td>-0.0474</td>\n      <td>0.0577</td>\n      <td>-0.0188</td>\n      <td>0.041</td>\n      <td>-1.025903</td>\n      <td>-0.000265</td>\n    </tr>\n    <tr>\n      <th>2000-01-31</th>\n      <td>ADBE</td>\n      <td>-0.947964</td>\n      <td>-0.0474</td>\n      <td>0.0577</td>\n      <td>-0.0188</td>\n      <td>0.041</td>\n      <td>-0.988964</td>\n      <td>0.809441</td>\n    </tr>\n    <tr>\n      <th>2000-01-31</th>\n      <td>ADI</td>\n      <td>-0.911564</td>\n      <td>-0.0474</td>\n      <td>0.0577</td>\n      <td>-0.0188</td>\n      <td>0.041</td>\n      <td>-0.952564</td>\n      <td>0.638818</td>\n    </tr>\n  </tbody>\n</table>\n</div>"
     },
     "execution_count": 30,
     "metadata": {},
     "output_type": "execute_result"
    }
   ],
   "source": [
    "merged_df = merged_df.sort_values(by=['Date', 'Symbol'])\n",
    "\n",
    "merged_df['ex_ret_1'] = merged_df.groupby('Symbol')['Excess Return'].shift(-1)\n",
    "\n",
    "merged_df.head()"
   ],
   "metadata": {
    "collapsed": false,
    "ExecuteTime": {
     "end_time": "2023-10-25T18:14:43.340204200Z",
     "start_time": "2023-10-25T18:14:43.275699600Z"
    }
   },
   "id": "f333cdfad16d315f"
  },
  {
   "cell_type": "code",
   "execution_count": null,
   "id": "4637c401e0e6352c",
   "metadata": {
    "collapsed": false
   },
   "outputs": [],
   "source": [
    "\"\"\"\n",
    "A meglévő adatokból válaszd ki a Amazon részvényhez tartozó sorokat (AMZN) és töröld a tickereket tartalmazó oszlopot\n",
    "\n",
    "amazon_df = merged_df[merged_df['Symbol'] == 'AMZN']\n",
    "amazon_df = amazon_df.drop(columns=['Symbol'])\n",
    "\n",
    "7., Készíts egy új LinearRegressionSM elnevezésű osztályt. Definiáld benne a __init__ nevű függvényt, amely bemenetként 2 DataDrame-t kap amelyeket ments le a left_hand_side és right_hand_side elnevezésű változókba. Az egyik DataFrame fogja tartalmazni a következő hónap többlet hozamait (left_hand_side), a másik a piaci hozamokat (Mkt-RF), az SMB és a HML értékeket (right_hand_side).\n",
    "\n",
    "8., Egésztsd ki az osztályt egy fit metódussal, ami meghívja a statsmodels segítségével OLS alapon becsült modellt illeszt az osztály adattagjaira. A becslésből visszakapott modellt mentse le az osztály _model adattagjába. Figyelj oda, hogy a regresszió futtatása során konstans (alfa / béta_0) is szerepeljen a predictor változók között.\n",
    "\n",
    "9., Egészítsd ki az osztályt egy get_params metódussal, ami visszaadja a becsült modellt béta paramétereinek értékeit. A visszakapott pandas Series típusú adatban az oszlop neve legyen 'Beta coefficients'\n",
    "\n",
    "10., Egészítsd ki az osztályt egy get_pvalues metódussal, ami visszaadja a becsült modell paraméterekhez tartozó p értékeket. A visszakapott pandas Series típusú adatban az oszlop neve legyen: P-values for the corresponding coefficients\n",
    "\n",
    "11., Egészítsd ki az osztályt egy get_wald_test_result metódussal, ami visszaadja a bemeneti restrikciós mátrix alapján számolt F és p értékeket. A visszatérési típus string legyen, a visszaadandó szöveg: F-value: fvalue, p-value: pvalue, ahol az fvalue és pvalue helyére 3 tizedesjegyre kerekítve adja meg a hozzájuk tartozó értékeket.\n",
    "\n",
    "12., Egészítse ki az osztályt egy get_model_goodness_values metódussal, ami visszadja a módosított R-négyzet, az Akaike és a Bayes információs kritériumok értékét. A visszatérési típus string legyen, a visszaadandó szöveg: Adjusted R-squared: ars, Akaike IC: ak, Bayes IC: by, ahol ars, ak és by helyére 3 tizedesjegyre kerekítve adja meg a hozzájuk tartozó értékeket.\n",
    "\n",
    "A létrehozott osztályt és a hozzátartozó metódusokat mentsd le a src.linear_regression mappába, a LinearRegressions.py fájlba.\n",
    "\"\"\""
   ]
  },
  {
   "cell_type": "code",
   "execution_count": null,
   "outputs": [],
   "source": [
    "import pandas as pd\n",
    "import statsmodels.api as sm\n",
    "\n",
    "class LinearRegressionSM:\n",
    "    def __init__(self, left_hand_side, right_hand_side):\n",
    "        self.left_hand_side = left_hand_side\n",
    "        self.right_hand_side = right_hand_side\n",
    "        self._model = None\n",
    "\n",
    "    def fit(self):\n",
    "        X = sm.add_constant(self.right_hand_side)\n",
    "        y = self.left_hand_side\n",
    "        model = sm.OLS(y, X).fit()\n",
    "        self._model = model\n",
    "\n",
    "    def get_params(self):\n",
    "        if self._model is not None:\n",
    "            beta_coefficients = self._model.params\n",
    "            return pd.Series(beta_coefficients, name='Beta coefficients')\n",
    "        else:\n",
    "            return None\n",
    "\n",
    "    def get_pvalues(self):\n",
    "        if self._model is not None:\n",
    "            p_values = self._model.pvalues\n",
    "            return pd.Series(p_values, name='P-values for the corresponding coefficients')\n",
    "        else:\n",
    "            return None\n",
    "\n",
    "    def get_wald_test_result(self, restrictions):\n",
    "        if self._model is not None:\n",
    "            wald_test = self._model.wald_test(restrictions)\n",
    "            f_value = round(wald_test.statistic, 3)\n",
    "            p_value = round(wald_test.pvalue, 3)\n",
    "            return f'F-value: {f_value}, p-value: {p_value}'\n",
    "        else:\n",
    "            return None\n",
    "        \n",
    "    "
   ],
   "metadata": {
    "collapsed": false
   },
   "id": "632e9b84be1a75ef"
  }
 ],
 "metadata": {
  "kernelspec": {
   "display_name": "Python 3 (ipykernel)",
   "language": "python",
   "name": "python3"
  },
  "language_info": {
   "codemirror_mode": {
    "name": "ipython",
    "version": 3
   },
   "file_extension": ".py",
   "mimetype": "text/x-python",
   "name": "python",
   "nbconvert_exporter": "python",
   "pygments_lexer": "ipython3",
   "version": "3.10.4"
  }
 },
 "nbformat": 4,
 "nbformat_minor": 5
}
