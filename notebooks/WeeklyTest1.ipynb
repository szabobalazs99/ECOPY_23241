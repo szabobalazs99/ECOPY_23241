{
 "cells": [
  {
   "cell_type": "markdown",
   "source": [
    "##### A feladatok megoldását mentse src/weekly modul-ba a weekly_test_1.py nevű fájlba\n",
    "###### A fájlba kommentként írd be a Neptun kódodat"
   ],
   "metadata": {
    "collapsed": false
   },
   "id": "a8cbfcd702b3de5"
  },
  {
   "cell_type": "code",
   "execution_count": null,
   "outputs": [],
   "source": [
    "#GMTIGU"
   ],
   "metadata": {
    "collapsed": false
   },
   "id": "7570820639b84ca8"
  },
  {
   "cell_type": "code",
   "execution_count": null,
   "outputs": [],
   "source": [
    "# 1., Írjon egy függvényt ami vissza adja a bemeneti lista páros elemeit\n",
    "# függvény név: evens_from_list\n",
    "# bemeneti paraméterek: input_list \n",
    "# kimeneti típus: List "
   ],
   "metadata": {
    "collapsed": false
   },
   "id": "7675f2ea543b3407"
  },
  {
   "cell_type": "code",
   "execution_count": 3,
   "outputs": [],
   "source": [
    "def evens_from_list(input_list):\n",
    "    even_values = []\n",
    "    for item in input_list:\n",
    "        if item % 2 == 0:\n",
    "            even_values.append(item)\n",
    "    return even_values"
   ],
   "metadata": {
    "collapsed": false,
    "ExecuteTime": {
     "end_time": "2023-09-20T17:11:14.185848500Z",
     "start_time": "2023-09-20T17:11:14.145420200Z"
    }
   },
   "id": "249bcda88ef6bb9a"
  },
  {
   "cell_type": "code",
   "execution_count": 4,
   "outputs": [
    {
     "name": "stdout",
     "output_type": "stream",
     "text": [
      "[2, 4, 6, 8, 10]\n"
     ]
    }
   ],
   "source": [
    "my_list = list(range(1, 11))\n",
    "print(evens_from_list(my_list))"
   ],
   "metadata": {
    "collapsed": false,
    "ExecuteTime": {
     "end_time": "2023-09-20T17:11:14.213057400Z",
     "start_time": "2023-09-20T17:11:14.151419800Z"
    }
   },
   "id": "d7595a49d9eb729f"
  },
  {
   "cell_type": "code",
   "execution_count": null,
   "outputs": [],
   "source": [
    "# 2., Írjon egy függvényt ami megvizsgálja, hogy a listában minden elem páratlan-e\n",
    "# függvény név: every_element_is_odd\n",
    "# bemeneti paraméterek: input_list \n",
    "# kimeneti típus: bool "
   ],
   "metadata": {
    "collapsed": false
   },
   "id": "initial_id"
  },
  {
   "cell_type": "code",
   "execution_count": 7,
   "outputs": [],
   "source": [
    "def every_element_is_odd(input_list):\n",
    "    for elem in input_list:\n",
    "        if elem % 2 == 0:\n",
    "            return False\n",
    "    return True"
   ],
   "metadata": {
    "collapsed": false,
    "ExecuteTime": {
     "end_time": "2023-09-20T17:14:35.837494600Z",
     "start_time": "2023-09-20T17:14:35.798208800Z"
    }
   },
   "id": "f403d1a38951a2e5"
  },
  {
   "cell_type": "code",
   "execution_count": 8,
   "outputs": [
    {
     "name": "stdout",
     "output_type": "stream",
     "text": [
      "True\n"
     ]
    }
   ],
   "source": [
    "my_list = [1, 3, 5, 7, 9]\n",
    "print(every_element_is_odd(my_list))"
   ],
   "metadata": {
    "collapsed": false,
    "ExecuteTime": {
     "end_time": "2023-09-20T17:14:35.855237700Z",
     "start_time": "2023-09-20T17:14:35.806209600Z"
    }
   },
   "id": "32de36b5b20054fd"
  },
  {
   "cell_type": "code",
   "execution_count": null,
   "outputs": [],
   "source": [
    "# 3., Írjon egy függvényt ami visszaadja a k. legnagyobb elemet listában \n",
    "# függvény név: kth_largest_in_list\n",
    "# bemeneti paraméterek: input_list, kth_largest\n",
    "# kimeneti típus: int "
   ],
   "metadata": {
    "collapsed": false
   },
   "id": "884e2710a259cb85"
  },
  {
   "cell_type": "code",
   "execution_count": 41,
   "outputs": [],
   "source": [
    "def kth_largest_in_list(input_list, kth_largest):\n",
    "    input_list.sort()\n",
    "    return input_list[-kth_largest]"
   ],
   "metadata": {
    "collapsed": false,
    "ExecuteTime": {
     "end_time": "2023-09-20T17:55:45.688616900Z",
     "start_time": "2023-09-20T17:55:45.645495500Z"
    }
   },
   "id": "af9f705a9b8115f"
  },
  {
   "cell_type": "code",
   "execution_count": 42,
   "outputs": [
    {
     "name": "stdout",
     "output_type": "stream",
     "text": [
      "12\n"
     ]
    }
   ],
   "source": [
    "my_list = [1, 3, 5, 12, 7, 9, 11]\n",
    "x_largest = 1\n",
    "print(kth_largest_in_list(my_list, x_largest))"
   ],
   "metadata": {
    "collapsed": false,
    "ExecuteTime": {
     "end_time": "2023-09-20T17:55:45.715600600Z",
     "start_time": "2023-09-20T17:55:45.654492800Z"
    }
   },
   "id": "5a4c2a396921bf8d"
  },
  {
   "cell_type": "code",
   "execution_count": null,
   "outputs": [],
   "source": [
    "# 4., Írjon egy függvényt ami kiszámítja a lista elemek gördülő átlagát\n",
    "# függvény név: cumavg_list\n",
    "# bemeneti paraméterek: input_list \n",
    "# kimeneti típus: List "
   ],
   "metadata": {
    "collapsed": false
   },
   "id": "8021cc1853d79c8"
  },
  {
   "cell_type": "code",
   "execution_count": 11,
   "outputs": [],
   "source": [
    "def cumavg_list(input_list):\n",
    "    if not input_list:\n",
    "        return []\n",
    "    \n",
    "    cum_avg = [input_list[0]]\n",
    "    for i in range(1, len(input_list)):\n",
    "        current_avg = (cum_avg[-1] * i + input_list[i]) / (i + 1)\n",
    "        cum_avg.append(current_avg)\n",
    "    \n",
    "    return cum_avg"
   ],
   "metadata": {
    "collapsed": false,
    "ExecuteTime": {
     "end_time": "2023-09-20T17:19:32.806044900Z",
     "start_time": "2023-09-20T17:19:32.765736800Z"
    }
   },
   "id": "1b934675038ee3d3"
  },
  {
   "cell_type": "code",
   "execution_count": 12,
   "outputs": [
    {
     "name": "stdout",
     "output_type": "stream",
     "text": [
      "[1, 1.5, 2.0, 2.5, 3.0]\n"
     ]
    }
   ],
   "source": [
    "my_list = [1, 2, 3, 4, 5]\n",
    "result = cumavg_list(my_list)\n",
    "print(result)"
   ],
   "metadata": {
    "collapsed": false,
    "ExecuteTime": {
     "end_time": "2023-09-20T17:19:32.815040900Z",
     "start_time": "2023-09-20T17:19:32.775241800Z"
    }
   },
   "id": "185383fff68901dc"
  },
  {
   "cell_type": "code",
   "execution_count": null,
   "outputs": [],
   "source": [
    "# 5., Írjon egy függvényt ami kiszámítja 2 lista elemenként vett szorzatát\n",
    "# függvény név: element_wise_multiplication\n",
    "# bemeneti paraméterek: input_list1, input_list2 \n",
    "# kimeneti típus: List "
   ],
   "metadata": {
    "collapsed": false
   },
   "id": "323feea145ed36b4"
  },
  {
   "cell_type": "code",
   "execution_count": 13,
   "outputs": [],
   "source": [
    "def element_wise_multiplication(input_list1, input_list2):\n",
    "    import numpy as np\n",
    "    np_array1 = np.array(input_list1)\n",
    "    np_array2 = np.array(input_list2)\n",
    "    multiplication = np_array1 * np_array2\n",
    "    return list(multiplication)"
   ],
   "metadata": {
    "collapsed": false,
    "ExecuteTime": {
     "end_time": "2023-09-20T17:24:51.975046900Z",
     "start_time": "2023-09-20T17:24:51.936069700Z"
    }
   },
   "id": "ce2d7d79deff3706"
  },
  {
   "cell_type": "code",
   "execution_count": 14,
   "outputs": [
    {
     "name": "stdout",
     "output_type": "stream",
     "text": [
      "[3, 8, 15, 24, 35]\n"
     ]
    }
   ],
   "source": [
    "my_list_1 = [1, 2, 3, 4, 5]\n",
    "my_list_2 = [3, 4, 5, 6, 7]\n",
    "print(element_wise_multiplication(my_list_1, my_list_2))"
   ],
   "metadata": {
    "collapsed": false,
    "ExecuteTime": {
     "end_time": "2023-09-20T17:24:52.824334800Z",
     "start_time": "2023-09-20T17:24:51.943066600Z"
    }
   },
   "id": "6674291fd3503469"
  },
  {
   "cell_type": "code",
   "execution_count": null,
   "outputs": [],
   "source": [
    "# 6., Írjon egy függvényt amely összekapcsol n listát 1 listába\n",
    "# függvény név: merge_lists\n",
    "# bemeneti paraméterek: *lists\n",
    "# kimeneti típus: List "
   ],
   "metadata": {
    "collapsed": false
   },
   "id": "d1dc000ed96cff44"
  },
  {
   "cell_type": "code",
   "execution_count": 21,
   "outputs": [],
   "source": [
    "def merge_lists(*lists):\n",
    "    merged_list = []\n",
    "    for l in lists:\n",
    "        merged_list.extend(l)\n",
    "    return merged_list\n"
   ],
   "metadata": {
    "collapsed": false,
    "ExecuteTime": {
     "end_time": "2023-09-20T17:30:44.901667600Z",
     "start_time": "2023-09-20T17:30:44.866429400Z"
    }
   },
   "id": "c4af23267ba36eec"
  },
  {
   "cell_type": "code",
   "execution_count": 22,
   "outputs": [
    {
     "name": "stdout",
     "output_type": "stream",
     "text": [
      "[1, 2, 3, 4, 5, 6, 7, 8, 9]\n"
     ]
    }
   ],
   "source": [
    "list1 = [1, 2, 3]\n",
    "list2 = [4, 5, 6]\n",
    "list3 = [7, 8, 9]\n",
    "\n",
    "result = merge_lists(list1, list2, list3)\n",
    "print(result)"
   ],
   "metadata": {
    "collapsed": false,
    "ExecuteTime": {
     "end_time": "2023-09-20T17:30:44.941782200Z",
     "start_time": "2023-09-20T17:30:44.876427700Z"
    }
   },
   "id": "f1480710f296f984"
  },
  {
   "cell_type": "code",
   "execution_count": null,
   "outputs": [],
   "source": [
    "# 7., Írjon egy függvényt amely visszaadja a lista páratlan elemeinek a négyzetét\n",
    "# függvény név: squared_odds\n",
    "# bemeneti paraméterek: input_list\n",
    "# kimeneti típus: List "
   ],
   "metadata": {
    "collapsed": false
   },
   "id": "2841a2374dec25f5"
  },
  {
   "cell_type": "code",
   "execution_count": 23,
   "outputs": [],
   "source": [
    "def squared_odds(input_list):\n",
    "    result = []\n",
    "    for num in input_list:\n",
    "        if num % 2 != 0:\n",
    "            result.append(num ** 2)\n",
    "    return result"
   ],
   "metadata": {
    "collapsed": false,
    "ExecuteTime": {
     "end_time": "2023-09-20T17:32:37.845741300Z",
     "start_time": "2023-09-20T17:32:37.801364300Z"
    }
   },
   "id": "96beb0cb1de4283d"
  },
  {
   "cell_type": "code",
   "execution_count": 24,
   "outputs": [
    {
     "name": "stdout",
     "output_type": "stream",
     "text": [
      "[1, 9, 25, 49, 81]\n"
     ]
    }
   ],
   "source": [
    "my_list = [1, 2, 3, 4, 5, 6, 7, 8, 9]\n",
    "print(squared_odds(my_list)) "
   ],
   "metadata": {
    "collapsed": false,
    "ExecuteTime": {
     "end_time": "2023-09-20T17:32:37.854734100Z",
     "start_time": "2023-09-20T17:32:37.814030200Z"
    }
   },
   "id": "23caa98600146465"
  },
  {
   "cell_type": "code",
   "execution_count": null,
   "outputs": [],
   "source": [
    "# 8., Írjon egy függvényt amely a fordítottan sorba rendezi a kulcs-érték párokat a kulcs értéke szerint egy dictionary-ben\n",
    "# függvény név: reverse_sort_by_key\n",
    "# bemeneti paraméterek: input_dict\n",
    "# kimeneti típus: Dict "
   ],
   "metadata": {
    "collapsed": false
   },
   "id": "12e757ffc972f77a"
  },
  {
   "cell_type": "code",
   "execution_count": 33,
   "outputs": [],
   "source": [
    "def reverse_sort_by_key(input_dict):\n",
    "    return dict(sorted(input_dict.items(), reverse=True))"
   ],
   "metadata": {
    "collapsed": false,
    "ExecuteTime": {
     "end_time": "2023-09-20T17:45:04.679923200Z",
     "start_time": "2023-09-20T17:45:04.643603800Z"
    }
   },
   "id": "e9a710de823bd229"
  },
  {
   "cell_type": "code",
   "execution_count": 34,
   "outputs": [
    {
     "name": "stdout",
     "output_type": "stream",
     "text": [
      "{'d': 9, 'c': [12, 'c'], 'a': 'value'}\n"
     ]
    }
   ],
   "source": [
    "my_dict_to_sort = {'a': 'value', 'c': [12, 'c'], 'd': 9}\n",
    "print(reverse_sort_by_key(my_dict_to_sort))"
   ],
   "metadata": {
    "collapsed": false,
    "ExecuteTime": {
     "end_time": "2023-09-20T17:45:04.694726900Z",
     "start_time": "2023-09-20T17:45:04.651602300Z"
    }
   },
   "id": "e566b85e382d428d"
  },
  {
   "cell_type": "code",
   "execution_count": null,
   "outputs": [],
   "source": [
    "# 9., Írjon egy függvényt amely a bemeneti, pozitív egész számokat tartalmazó listát kiválogatja 2-vel, 5-el, 2-vel és 5-el, és egyikkel sem osztható számokat, és visszaad egy olyan dictionary-t, amelyben a kulcsok a 'by_two', 'by_five', 'by_two_and_five', és a 'by_none', az értékek, pedig a listák. (2 pont)\n",
    "# függvény név: sort_list_by_divisibility\n",
    "# bemeneti paraméterek: input_list\n",
    "# kimeneti típus: Dict "
   ],
   "metadata": {
    "collapsed": false
   },
   "id": "58dc0ff752928e36"
  },
  {
   "cell_type": "code",
   "execution_count": 35,
   "outputs": [],
   "source": [
    "def sort_list_by_divisibility(input_list):\n",
    "    result_dict = {\n",
    "        'by_two': [],\n",
    "        'by_five': [],\n",
    "        'by_two_and_five': [],\n",
    "        'by_none': [],\n",
    "    }\n",
    "    \n",
    "    for num in input_list:\n",
    "        if num % 2 == 0 and num % 5 == 0:\n",
    "            result_dict['by_two_and_five'].append(num)\n",
    "        elif num % 2 == 0:\n",
    "            result_dict['by_two'].append(num)\n",
    "        elif num % 5 == 0:\n",
    "            result_dict['by_five'].append(num)\n",
    "        else:\n",
    "            result_dict['by_none'].append(num)\n",
    "    \n",
    "    return result_dict\n",
    "\n"
   ],
   "metadata": {
    "collapsed": false,
    "ExecuteTime": {
     "end_time": "2023-09-20T17:49:55.321059700Z",
     "start_time": "2023-09-20T17:49:55.287588900Z"
    }
   },
   "id": "d62344d106bd25ab"
  },
  {
   "cell_type": "code",
   "execution_count": 36,
   "outputs": [
    {
     "name": "stdout",
     "output_type": "stream",
     "text": [
      "{'by_two': [2, 4], 'by_five': [5, 15, 25], 'by_two_and_five': [10, 20], 'by_none': [1, 3]}\n"
     ]
    }
   ],
   "source": [
    "my_list = [1, 2, 3, 4, 5, 10, 15, 20, 25]\n",
    "result = sort_list_by_divisibility(my_list)\n",
    "print(result)"
   ],
   "metadata": {
    "collapsed": false,
    "ExecuteTime": {
     "end_time": "2023-09-20T17:49:55.335051300Z",
     "start_time": "2023-09-20T17:49:55.300016500Z"
    }
   },
   "id": "4dc12112d99a1b81"
  },
  {
   "cell_type": "code",
   "execution_count": null,
   "outputs": [],
   "source": [],
   "metadata": {
    "collapsed": false
   },
   "id": "157ca581056654f7"
  },
  {
   "cell_type": "markdown",
   "source": [],
   "metadata": {
    "collapsed": false
   },
   "id": "c0cd37813169932a"
  }
 ],
 "metadata": {
  "kernelspec": {
   "display_name": "Python 3",
   "language": "python",
   "name": "python3"
  },
  "language_info": {
   "codemirror_mode": {
    "name": "ipython",
    "version": 2
   },
   "file_extension": ".py",
   "mimetype": "text/x-python",
   "name": "python",
   "nbconvert_exporter": "python",
   "pygments_lexer": "ipython2",
   "version": "2.7.6"
  }
 },
 "nbformat": 4,
 "nbformat_minor": 5
}
