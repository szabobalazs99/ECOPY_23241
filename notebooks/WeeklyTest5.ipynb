{
 "cells": [
  {
   "cell_type": "markdown",
   "id": "de9d9737616514b8",
   "metadata": {
    "collapsed": false
   },
   "source": [
    "## Az eredményeket mentsd a src/weekly modul-ba weekly_test_5.py néven"
   ]
  },
  {
   "cell_type": "markdown",
   "id": "a9789db8f0fbd7ec",
   "metadata": {
    "collapsed": false
   },
   "source": [
    "#### Használható modulok: pandas, typing, matplotlib, random, src.utils, src.weekly, str"
   ]
  },
  {
   "cell_type": "code",
   "execution_count": 63,
   "id": "dfea6e648868022e",
   "metadata": {
    "collapsed": false,
    "ExecuteTime": {
     "end_time": "2023-10-21T09:35:59.851357800Z",
     "start_time": "2023-10-21T09:35:59.772918700Z"
    }
   },
   "outputs": [],
   "source": [
    "from pathlib import Path\n",
    "\n",
    "file_to_load = Path.cwd().parent.joinpath('data').joinpath('chipotle.tsv')"
   ]
  },
  {
   "cell_type": "code",
   "execution_count": null,
   "id": "9d26aec7b4e97407",
   "metadata": {
    "collapsed": false
   },
   "outputs": [],
   "source": [
    "\"\"\"\n",
    "1., Olvasd be a data mappa chipotle.tsv nevű fájlját egy dataframe-be. A betöltött   adatokat food nevű változóban mentse. A következő feladatokban a kiinduló fájlt csak akkor írd felül, ha jelezve van.\n",
    "\"\"\""
   ]
  },
  {
   "cell_type": "code",
   "execution_count": 5,
   "id": "f1945d927f8109c4",
   "metadata": {
    "collapsed": false,
    "ExecuteTime": {
     "end_time": "2023-10-22T08:08:53.780554800Z",
     "start_time": "2023-10-22T08:08:53.668611400Z"
    }
   },
   "outputs": [],
   "source": [
    "import pandas as pd\n",
    "\n",
    "food = pd.read_csv(\"../data/chipotle.tsv\", sep=\"\\t\")"
   ]
  },
  {
   "cell_type": "code",
   "execution_count": null,
   "outputs": [],
   "source": [],
   "metadata": {
    "collapsed": false
   },
   "id": "f35d60f5979c143f"
  },
  {
   "cell_type": "code",
   "execution_count": null,
   "outputs": [],
   "source": [
    "\"\"\"\n",
    "2., Készts egy függvényt, ami a bemeneti adattömbben átalakítja az item_price értékeit float-ra. Az eredeti adatokat a függvény ne módosítsa. A kapott, tisztított adatokkal írd felül a food változót.\n",
    "\n",
    "függvény név: change_price_to_float\n",
    "bemenet: input_df\n",
    "kimeneti típus: pandas.core.frame.DataFrame\n",
    "\"\"\""
   ],
   "metadata": {
    "collapsed": false
   },
   "id": "d42ee754b557dcef"
  },
  {
   "cell_type": "code",
   "execution_count": 6,
   "outputs": [],
   "source": [
    "def change_price_to_float(input_df):\n",
    "    copy_df = input_df.copy()\n",
    "\n",
    "    copy_df['item_price'] = copy_df['item_price'].str.replace('$', '').astype(float)\n",
    "\n",
    "    return copy_df"
   ],
   "metadata": {
    "collapsed": false,
    "ExecuteTime": {
     "end_time": "2023-10-22T08:08:59.634524800Z",
     "start_time": "2023-10-22T08:08:59.511607500Z"
    }
   },
   "id": "62f342effc8f0d82"
  },
  {
   "cell_type": "code",
   "execution_count": 7,
   "outputs": [
    {
     "data": {
      "text/plain": "      order_id  quantity                              item_name  \\\n0            1         1           Chips and Fresh Tomato Salsa   \n1            1         1                                   Izze   \n2            1         1                       Nantucket Nectar   \n3            1         1  Chips and Tomatillo-Green Chili Salsa   \n4            2         2                           Chicken Bowl   \n...        ...       ...                                    ...   \n4617      1833         1                          Steak Burrito   \n4618      1833         1                          Steak Burrito   \n4619      1834         1                     Chicken Salad Bowl   \n4620      1834         1                     Chicken Salad Bowl   \n4621      1834         1                     Chicken Salad Bowl   \n\n                                     choice_description  item_price  \n0                                                   NaN        2.39  \n1                                          [Clementine]        3.39  \n2                                               [Apple]        3.39  \n3                                                   NaN        2.39  \n4     [Tomatillo-Red Chili Salsa (Hot), [Black Beans...       16.98  \n...                                                 ...         ...  \n4617  [Fresh Tomato Salsa, [Rice, Black Beans, Sour ...       11.75  \n4618  [Fresh Tomato Salsa, [Rice, Sour Cream, Cheese...       11.75  \n4619  [Fresh Tomato Salsa, [Fajita Vegetables, Pinto...       11.25  \n4620  [Fresh Tomato Salsa, [Fajita Vegetables, Lettu...        8.75  \n4621  [Fresh Tomato Salsa, [Fajita Vegetables, Pinto...        8.75  \n\n[4622 rows x 5 columns]",
      "text/html": "<div>\n<style scoped>\n    .dataframe tbody tr th:only-of-type {\n        vertical-align: middle;\n    }\n\n    .dataframe tbody tr th {\n        vertical-align: top;\n    }\n\n    .dataframe thead th {\n        text-align: right;\n    }\n</style>\n<table border=\"1\" class=\"dataframe\">\n  <thead>\n    <tr style=\"text-align: right;\">\n      <th></th>\n      <th>order_id</th>\n      <th>quantity</th>\n      <th>item_name</th>\n      <th>choice_description</th>\n      <th>item_price</th>\n    </tr>\n  </thead>\n  <tbody>\n    <tr>\n      <th>0</th>\n      <td>1</td>\n      <td>1</td>\n      <td>Chips and Fresh Tomato Salsa</td>\n      <td>NaN</td>\n      <td>2.39</td>\n    </tr>\n    <tr>\n      <th>1</th>\n      <td>1</td>\n      <td>1</td>\n      <td>Izze</td>\n      <td>[Clementine]</td>\n      <td>3.39</td>\n    </tr>\n    <tr>\n      <th>2</th>\n      <td>1</td>\n      <td>1</td>\n      <td>Nantucket Nectar</td>\n      <td>[Apple]</td>\n      <td>3.39</td>\n    </tr>\n    <tr>\n      <th>3</th>\n      <td>1</td>\n      <td>1</td>\n      <td>Chips and Tomatillo-Green Chili Salsa</td>\n      <td>NaN</td>\n      <td>2.39</td>\n    </tr>\n    <tr>\n      <th>4</th>\n      <td>2</td>\n      <td>2</td>\n      <td>Chicken Bowl</td>\n      <td>[Tomatillo-Red Chili Salsa (Hot), [Black Beans...</td>\n      <td>16.98</td>\n    </tr>\n    <tr>\n      <th>...</th>\n      <td>...</td>\n      <td>...</td>\n      <td>...</td>\n      <td>...</td>\n      <td>...</td>\n    </tr>\n    <tr>\n      <th>4617</th>\n      <td>1833</td>\n      <td>1</td>\n      <td>Steak Burrito</td>\n      <td>[Fresh Tomato Salsa, [Rice, Black Beans, Sour ...</td>\n      <td>11.75</td>\n    </tr>\n    <tr>\n      <th>4618</th>\n      <td>1833</td>\n      <td>1</td>\n      <td>Steak Burrito</td>\n      <td>[Fresh Tomato Salsa, [Rice, Sour Cream, Cheese...</td>\n      <td>11.75</td>\n    </tr>\n    <tr>\n      <th>4619</th>\n      <td>1834</td>\n      <td>1</td>\n      <td>Chicken Salad Bowl</td>\n      <td>[Fresh Tomato Salsa, [Fajita Vegetables, Pinto...</td>\n      <td>11.25</td>\n    </tr>\n    <tr>\n      <th>4620</th>\n      <td>1834</td>\n      <td>1</td>\n      <td>Chicken Salad Bowl</td>\n      <td>[Fresh Tomato Salsa, [Fajita Vegetables, Lettu...</td>\n      <td>8.75</td>\n    </tr>\n    <tr>\n      <th>4621</th>\n      <td>1834</td>\n      <td>1</td>\n      <td>Chicken Salad Bowl</td>\n      <td>[Fresh Tomato Salsa, [Fajita Vegetables, Pinto...</td>\n      <td>8.75</td>\n    </tr>\n  </tbody>\n</table>\n<p>4622 rows × 5 columns</p>\n</div>"
     },
     "execution_count": 7,
     "metadata": {},
     "output_type": "execute_result"
    }
   ],
   "source": [
    "food = change_price_to_float(food)\n",
    "food"
   ],
   "metadata": {
    "collapsed": false,
    "ExecuteTime": {
     "end_time": "2023-10-22T08:09:02.329219900Z",
     "start_time": "2023-10-22T08:09:02.187310300Z"
    }
   },
   "id": "97a528d6564e3cde"
  },
  {
   "cell_type": "code",
   "execution_count": null,
   "id": "b79c977da040d844",
   "metadata": {
    "collapsed": false
   },
   "outputs": [],
   "source": [
    "\"\"\"\n",
    "3., Készíts egy függvényt, ami megmondja, hogy hány megfigyelés található az adathalmazban\n",
    "\n",
    "függvény név: number_of_observations\n",
    "bemenet: input_df\n",
    "kimeneti típus: int\n",
    "\"\"\""
   ]
  },
  {
   "cell_type": "code",
   "execution_count": 5,
   "id": "505baa2089524304",
   "metadata": {
    "collapsed": false,
    "ExecuteTime": {
     "end_time": "2023-10-21T07:49:26.361634200Z",
     "start_time": "2023-10-21T07:49:26.295674700Z"
    }
   },
   "outputs": [],
   "source": [
    "def number_of_observations(input_df):\n",
    "    return len(input_df)"
   ]
  },
  {
   "cell_type": "code",
   "execution_count": 6,
   "id": "9d190eb6f3a482b6",
   "metadata": {
    "collapsed": false,
    "ExecuteTime": {
     "end_time": "2023-10-21T07:49:31.453516400Z",
     "start_time": "2023-10-21T07:49:31.393191600Z"
    }
   },
   "outputs": [
    {
     "data": {
      "text/plain": "4622"
     },
     "execution_count": 6,
     "metadata": {},
     "output_type": "execute_result"
    }
   ],
   "source": [
    "number_of_observations(food)"
   ]
  },
  {
   "cell_type": "code",
   "execution_count": null,
   "id": "dd10fafbf699543d",
   "metadata": {
    "collapsed": false
   },
   "outputs": [],
   "source": [
    "\"\"\"\n",
    "4., Készíts egy függvényt, ami visszadja a termék neveket és az áraikat.\n",
    "\n",
    "függvény név: items_and_prices\n",
    "bemenet: input_df\n",
    "kimeneti típus: pandas.core.frame.DataFrame\n",
    "\"\"\""
   ]
  },
  {
   "cell_type": "code",
   "execution_count": 7,
   "id": "a58cb336d2bac95d",
   "metadata": {
    "collapsed": false,
    "ExecuteTime": {
     "end_time": "2023-10-21T07:56:42.266020700Z",
     "start_time": "2023-10-21T07:56:42.229044300Z"
    }
   },
   "outputs": [],
   "source": [
    "def items_and_prices(input_df):\n",
    "     return input_df[['item_name', 'item_price']]"
   ]
  },
  {
   "cell_type": "code",
   "execution_count": 69,
   "id": "47f914b529be356b",
   "metadata": {
    "collapsed": false,
    "ExecuteTime": {
     "end_time": "2023-10-21T09:37:11.054278200Z",
     "start_time": "2023-10-21T09:37:11.007263900Z"
    }
   },
   "outputs": [
    {
     "data": {
      "text/plain": "                                  item_name  item_price\n0              Chips and Fresh Tomato Salsa        2.39\n1                                      Izze        3.39\n2                          Nantucket Nectar        3.39\n3     Chips and Tomatillo-Green Chili Salsa        2.39\n4                              Chicken Bowl       16.98\n...                                     ...         ...\n4617                          Steak Burrito       11.75\n4618                          Steak Burrito       11.75\n4619                     Chicken Salad Bowl       11.25\n4620                     Chicken Salad Bowl        8.75\n4621                     Chicken Salad Bowl        8.75\n\n[4622 rows x 2 columns]",
      "text/html": "<div>\n<style scoped>\n    .dataframe tbody tr th:only-of-type {\n        vertical-align: middle;\n    }\n\n    .dataframe tbody tr th {\n        vertical-align: top;\n    }\n\n    .dataframe thead th {\n        text-align: right;\n    }\n</style>\n<table border=\"1\" class=\"dataframe\">\n  <thead>\n    <tr style=\"text-align: right;\">\n      <th></th>\n      <th>item_name</th>\n      <th>item_price</th>\n    </tr>\n  </thead>\n  <tbody>\n    <tr>\n      <th>0</th>\n      <td>Chips and Fresh Tomato Salsa</td>\n      <td>2.39</td>\n    </tr>\n    <tr>\n      <th>1</th>\n      <td>Izze</td>\n      <td>3.39</td>\n    </tr>\n    <tr>\n      <th>2</th>\n      <td>Nantucket Nectar</td>\n      <td>3.39</td>\n    </tr>\n    <tr>\n      <th>3</th>\n      <td>Chips and Tomatillo-Green Chili Salsa</td>\n      <td>2.39</td>\n    </tr>\n    <tr>\n      <th>4</th>\n      <td>Chicken Bowl</td>\n      <td>16.98</td>\n    </tr>\n    <tr>\n      <th>...</th>\n      <td>...</td>\n      <td>...</td>\n    </tr>\n    <tr>\n      <th>4617</th>\n      <td>Steak Burrito</td>\n      <td>11.75</td>\n    </tr>\n    <tr>\n      <th>4618</th>\n      <td>Steak Burrito</td>\n      <td>11.75</td>\n    </tr>\n    <tr>\n      <th>4619</th>\n      <td>Chicken Salad Bowl</td>\n      <td>11.25</td>\n    </tr>\n    <tr>\n      <th>4620</th>\n      <td>Chicken Salad Bowl</td>\n      <td>8.75</td>\n    </tr>\n    <tr>\n      <th>4621</th>\n      <td>Chicken Salad Bowl</td>\n      <td>8.75</td>\n    </tr>\n  </tbody>\n</table>\n<p>4622 rows × 2 columns</p>\n</div>"
     },
     "execution_count": 69,
     "metadata": {},
     "output_type": "execute_result"
    }
   ],
   "source": [
    "items_prices_df = items_and_prices(food)\n",
    "items_prices_df"
   ]
  },
  {
   "cell_type": "code",
   "execution_count": null,
   "id": "a35053917db8723e",
   "metadata": {
    "collapsed": false
   },
   "outputs": [],
   "source": [
    "\"\"\"\n",
    "5., Készíts egy függvényt, ami sorba rendezi az termékeket az áruk alapján, csökkenő sorrendben. Használd az előző  függvény eredményét.\n",
    "\n",
    "függvény név: sorted_by_price\n",
    "bemenet: input_df\n",
    "kimeneti típus: pandas.core.frame.DataFrame\n",
    "\n",
    "\"\"\""
   ]
  },
  {
   "cell_type": "code",
   "execution_count": 36,
   "id": "5c764033a4ca200b",
   "metadata": {
    "collapsed": false,
    "ExecuteTime": {
     "end_time": "2023-10-21T09:12:07.931483800Z",
     "start_time": "2023-10-21T09:12:07.854022700Z"
    }
   },
   "outputs": [],
   "source": [
    "def sorted_by_price(input_df):\n",
    "    return input_df.sort_values(by='item_price', ascending=False)\n",
    "    \n",
    "    "
   ]
  },
  {
   "cell_type": "code",
   "execution_count": 37,
   "id": "a10e9e934b2a98b8",
   "metadata": {
    "collapsed": false,
    "ExecuteTime": {
     "end_time": "2023-10-21T09:12:11.074023700Z",
     "start_time": "2023-10-21T09:12:11.006547300Z"
    }
   },
   "outputs": [
    {
     "data": {
      "text/plain": "                         item_name  item_price\n3598  Chips and Fresh Tomato Salsa       44.25\n3480                 Carnitas Bowl       35.25\n1254               Chicken Burrito       35.00\n3602               Chicken Burrito       35.00\n3601                Veggie Burrito       33.75\n...                            ...         ...\n3936                   Canned Soda        1.09\n2922                 Bottled Water        1.09\n1396                   Canned Soda        1.09\n2562                   Canned Soda        1.09\n1457                   Canned Soda        1.09\n\n[4622 rows x 2 columns]",
      "text/html": "<div>\n<style scoped>\n    .dataframe tbody tr th:only-of-type {\n        vertical-align: middle;\n    }\n\n    .dataframe tbody tr th {\n        vertical-align: top;\n    }\n\n    .dataframe thead th {\n        text-align: right;\n    }\n</style>\n<table border=\"1\" class=\"dataframe\">\n  <thead>\n    <tr style=\"text-align: right;\">\n      <th></th>\n      <th>item_name</th>\n      <th>item_price</th>\n    </tr>\n  </thead>\n  <tbody>\n    <tr>\n      <th>3598</th>\n      <td>Chips and Fresh Tomato Salsa</td>\n      <td>44.25</td>\n    </tr>\n    <tr>\n      <th>3480</th>\n      <td>Carnitas Bowl</td>\n      <td>35.25</td>\n    </tr>\n    <tr>\n      <th>1254</th>\n      <td>Chicken Burrito</td>\n      <td>35.00</td>\n    </tr>\n    <tr>\n      <th>3602</th>\n      <td>Chicken Burrito</td>\n      <td>35.00</td>\n    </tr>\n    <tr>\n      <th>3601</th>\n      <td>Veggie Burrito</td>\n      <td>33.75</td>\n    </tr>\n    <tr>\n      <th>...</th>\n      <td>...</td>\n      <td>...</td>\n    </tr>\n    <tr>\n      <th>3936</th>\n      <td>Canned Soda</td>\n      <td>1.09</td>\n    </tr>\n    <tr>\n      <th>2922</th>\n      <td>Bottled Water</td>\n      <td>1.09</td>\n    </tr>\n    <tr>\n      <th>1396</th>\n      <td>Canned Soda</td>\n      <td>1.09</td>\n    </tr>\n    <tr>\n      <th>2562</th>\n      <td>Canned Soda</td>\n      <td>1.09</td>\n    </tr>\n    <tr>\n      <th>1457</th>\n      <td>Canned Soda</td>\n      <td>1.09</td>\n    </tr>\n  </tbody>\n</table>\n<p>4622 rows × 2 columns</p>\n</div>"
     },
     "execution_count": 37,
     "metadata": {},
     "output_type": "execute_result"
    }
   ],
   "source": [
    "sorted_by_price(items_and_prices(food))"
   ]
  },
  {
   "cell_type": "code",
   "execution_count": null,
   "id": "30fd1aa0c59afb47",
   "metadata": {
    "collapsed": false
   },
   "outputs": [],
   "source": [
    "\"\"\"\n",
    "6., Készíts egy függvényt, ami visszaadja az átlagos árat.\n",
    "\n",
    "függvény név: avg_price\n",
    "bemenet: input_df\n",
    "kimeneti típus: float\n",
    "\n",
    "\"\"\""
   ]
  },
  {
   "cell_type": "code",
   "execution_count": 28,
   "id": "44865d1982f4fe17",
   "metadata": {
    "collapsed": false,
    "ExecuteTime": {
     "end_time": "2023-10-21T09:04:01.747593700Z",
     "start_time": "2023-10-21T09:04:01.709903200Z"
    }
   },
   "outputs": [],
   "source": [
    "def avg_price(input_df):\n",
    "    return input_df['item_price'].mean()"
   ]
  },
  {
   "cell_type": "code",
   "execution_count": 29,
   "id": "8d4529f9fc423a7",
   "metadata": {
    "collapsed": false,
    "ExecuteTime": {
     "end_time": "2023-10-21T09:04:11.447993500Z",
     "start_time": "2023-10-21T09:04:11.408170900Z"
    }
   },
   "outputs": [
    {
     "data": {
      "text/plain": "7.464335785374297"
     },
     "execution_count": 29,
     "metadata": {},
     "output_type": "execute_result"
    }
   ],
   "source": [
    "avg_price(food)"
   ]
  },
  {
   "cell_type": "code",
   "execution_count": null,
   "id": "4637c401e0e6352c",
   "metadata": {
    "collapsed": false
   },
   "outputs": [],
   "source": [
    "\"\"\"\n",
    "7., Készíts egy függvényt, ami visszadja azokat az egyedi termékeket (név, feltét és ár szempontjából egyedi), amelyek ára 10 dollár felett van\n",
    "\n",
    "függvény név: unique_items_over_ten_dollars\n",
    "bement: input_df\n",
    "kimeneti típus: pandas.core.frame.DataFrame\n",
    "\n",
    "\"\"\""
   ]
  },
  {
   "cell_type": "code",
   "execution_count": 48,
   "id": "f1dd81478909c86c",
   "metadata": {
    "collapsed": false,
    "ExecuteTime": {
     "end_time": "2023-10-21T09:20:42.994147Z",
     "start_time": "2023-10-21T09:20:42.941819300Z"
    }
   },
   "outputs": [],
   "source": [
    "def unique_items_over_ten_dollars(input_df):\n",
    "    copy_df = input_df.copy()\n",
    "    filtered_df = copy_df[copy_df['item_price'] > 10]\n",
    "    filtered_df2 = filtered_df.drop_duplicates(subset=['item_name', 'choice_description', 'item_price'])\n",
    "    return filtered_df2.drop(['order_id', 'quantity'], axis='columns')"
   ]
  },
  {
   "cell_type": "code",
   "execution_count": 49,
   "id": "5c1dc290a99cf46c",
   "metadata": {
    "collapsed": false,
    "ExecuteTime": {
     "end_time": "2023-10-21T09:20:45.120659500Z",
     "start_time": "2023-10-21T09:20:45.063158200Z"
    }
   },
   "outputs": [
    {
     "data": {
      "text/plain": "            item_name                                 choice_description  \\\n4        Chicken Bowl  [Tomatillo-Red Chili Salsa (Hot), [Black Beans...   \n5        Chicken Bowl  [Fresh Tomato Salsa (Mild), [Rice, Cheese, Sou...   \n7       Steak Burrito  [Tomatillo Red Chili Salsa, [Fajita Vegetables...   \n13       Chicken Bowl  [Fresh Tomato Salsa, [Fajita Vegetables, Rice,...   \n23    Chicken Burrito  [[Tomatillo-Green Chili Salsa (Medium), Tomati...   \n...               ...                                                ...   \n4593    Carnitas Bowl  [Roasted Chili Corn Salsa, [Rice, Sour Cream, ...   \n4594    Barbacoa Bowl  [Roasted Chili Corn Salsa, [Pinto Beans, Sour ...   \n4607    Steak Burrito  [Tomatillo Green Chili Salsa, [Rice, Cheese, S...   \n4610    Steak Burrito  [Fresh Tomato Salsa, [Rice, Sour Cream, Cheese...   \n4611   Veggie Burrito  [Tomatillo Green Chili Salsa, [Rice, Fajita Ve...   \n\n      item_price  \n4          16.98  \n5          10.98  \n7          11.75  \n13         11.25  \n23         10.98  \n...          ...  \n4593       11.75  \n4594       11.75  \n4607       11.75  \n4610       11.75  \n4611       11.25  \n\n[794 rows x 3 columns]",
      "text/html": "<div>\n<style scoped>\n    .dataframe tbody tr th:only-of-type {\n        vertical-align: middle;\n    }\n\n    .dataframe tbody tr th {\n        vertical-align: top;\n    }\n\n    .dataframe thead th {\n        text-align: right;\n    }\n</style>\n<table border=\"1\" class=\"dataframe\">\n  <thead>\n    <tr style=\"text-align: right;\">\n      <th></th>\n      <th>item_name</th>\n      <th>choice_description</th>\n      <th>item_price</th>\n    </tr>\n  </thead>\n  <tbody>\n    <tr>\n      <th>4</th>\n      <td>Chicken Bowl</td>\n      <td>[Tomatillo-Red Chili Salsa (Hot), [Black Beans...</td>\n      <td>16.98</td>\n    </tr>\n    <tr>\n      <th>5</th>\n      <td>Chicken Bowl</td>\n      <td>[Fresh Tomato Salsa (Mild), [Rice, Cheese, Sou...</td>\n      <td>10.98</td>\n    </tr>\n    <tr>\n      <th>7</th>\n      <td>Steak Burrito</td>\n      <td>[Tomatillo Red Chili Salsa, [Fajita Vegetables...</td>\n      <td>11.75</td>\n    </tr>\n    <tr>\n      <th>13</th>\n      <td>Chicken Bowl</td>\n      <td>[Fresh Tomato Salsa, [Fajita Vegetables, Rice,...</td>\n      <td>11.25</td>\n    </tr>\n    <tr>\n      <th>23</th>\n      <td>Chicken Burrito</td>\n      <td>[[Tomatillo-Green Chili Salsa (Medium), Tomati...</td>\n      <td>10.98</td>\n    </tr>\n    <tr>\n      <th>...</th>\n      <td>...</td>\n      <td>...</td>\n      <td>...</td>\n    </tr>\n    <tr>\n      <th>4593</th>\n      <td>Carnitas Bowl</td>\n      <td>[Roasted Chili Corn Salsa, [Rice, Sour Cream, ...</td>\n      <td>11.75</td>\n    </tr>\n    <tr>\n      <th>4594</th>\n      <td>Barbacoa Bowl</td>\n      <td>[Roasted Chili Corn Salsa, [Pinto Beans, Sour ...</td>\n      <td>11.75</td>\n    </tr>\n    <tr>\n      <th>4607</th>\n      <td>Steak Burrito</td>\n      <td>[Tomatillo Green Chili Salsa, [Rice, Cheese, S...</td>\n      <td>11.75</td>\n    </tr>\n    <tr>\n      <th>4610</th>\n      <td>Steak Burrito</td>\n      <td>[Fresh Tomato Salsa, [Rice, Sour Cream, Cheese...</td>\n      <td>11.75</td>\n    </tr>\n    <tr>\n      <th>4611</th>\n      <td>Veggie Burrito</td>\n      <td>[Tomatillo Green Chili Salsa, [Rice, Fajita Ve...</td>\n      <td>11.25</td>\n    </tr>\n  </tbody>\n</table>\n<p>794 rows × 3 columns</p>\n</div>"
     },
     "execution_count": 49,
     "metadata": {},
     "output_type": "execute_result"
    }
   ],
   "source": [
    "unique_items_over_ten_dollars(food)"
   ]
  },
  {
   "cell_type": "code",
   "execution_count": null,
   "id": "ff27a788246be43c",
   "metadata": {
    "collapsed": false
   },
   "outputs": [],
   "source": [
    "\"\"\"\n",
    "8., Készíts egy függvényt, ami visszaadja azon termékek neveit, amelyek neve 'S'-el kezdődik.\n",
    "\n",
    "fv. neve: items_starting_with_s\n",
    "bemenet: input_df\n",
    "kimeneti típus: pandas.core.frame.DataFrame\n",
    "\"\"\""
   ]
  },
  {
   "cell_type": "code",
   "execution_count": 13,
   "id": "2ebc475c23f0de6e",
   "metadata": {
    "collapsed": false,
    "ExecuteTime": {
     "end_time": "2023-10-22T09:05:22.387365Z",
     "start_time": "2023-10-22T09:05:22.341312800Z"
    }
   },
   "outputs": [],
   "source": [
    "def items_starting_with_s(input_df):\n",
    "    copy_df = input_df.copy()\n",
    "    filtered_df = copy_df[copy_df['item_name'].str.startswith('S')]\n",
    "\n",
    "    result = filtered_df['item_name'].unique()\n",
    "    return pd.Series(result, name='item_name')"
   ]
  },
  {
   "cell_type": "code",
   "execution_count": 14,
   "id": "a4eef25889cb8347",
   "metadata": {
    "collapsed": false,
    "ExecuteTime": {
     "end_time": "2023-10-22T09:05:24.501098700Z",
     "start_time": "2023-10-22T09:05:24.398118500Z"
    }
   },
   "outputs": [
    {
     "data": {
      "text/plain": "0         Side of Chips\n1         Steak Burrito\n2      Steak Soft Tacos\n3            Steak Bowl\n4    Steak Crispy Tacos\n5      Steak Salad Bowl\n6           Steak Salad\n7                 Salad\nName: item_name, dtype: object"
     },
     "execution_count": 14,
     "metadata": {},
     "output_type": "execute_result"
    }
   ],
   "source": [
    "items_with_s = items_starting_with_s(food)\n",
    "items_with_s"
   ]
  },
  {
   "cell_type": "code",
   "execution_count": null,
   "id": "2293e3b440a8ae85",
   "metadata": {
    "collapsed": false
   },
   "outputs": [],
   "source": [
    "\"\"\"\n",
    "9. Készíts egy függvényt, ami visszaadja az első 3 oszlopot. Használd a tisztított.\n",
    "\n",
    "fv. név: first_three_columns\n",
    "bemenet: input_df\n",
    "return típus: pandas.core.frame.DataFrame\n",
    "\n",
    "\"\"\""
   ]
  },
  {
   "cell_type": "code",
   "execution_count": 73,
   "id": "a192f2eebf0bb24d",
   "metadata": {
    "collapsed": false,
    "ExecuteTime": {
     "end_time": "2023-10-21T09:42:45.146438500Z",
     "start_time": "2023-10-21T09:42:45.106068400Z"
    }
   },
   "outputs": [],
   "source": [
    "def first_three_columns(input_df):\n",
    "    return input_df.iloc[:, :3]"
   ]
  },
  {
   "cell_type": "code",
   "execution_count": 74,
   "id": "dc174ca46e9dea9b",
   "metadata": {
    "collapsed": false,
    "ExecuteTime": {
     "end_time": "2023-10-21T09:42:50.810850800Z",
     "start_time": "2023-10-21T09:42:50.729070400Z"
    }
   },
   "outputs": [
    {
     "data": {
      "text/plain": "      order_id  quantity                              item_name\n0            1         1           Chips and Fresh Tomato Salsa\n1            1         1                                   Izze\n2            1         1                       Nantucket Nectar\n3            1         1  Chips and Tomatillo-Green Chili Salsa\n4            2         2                           Chicken Bowl\n...        ...       ...                                    ...\n4617      1833         1                          Steak Burrito\n4618      1833         1                          Steak Burrito\n4619      1834         1                     Chicken Salad Bowl\n4620      1834         1                     Chicken Salad Bowl\n4621      1834         1                     Chicken Salad Bowl\n\n[4622 rows x 3 columns]",
      "text/html": "<div>\n<style scoped>\n    .dataframe tbody tr th:only-of-type {\n        vertical-align: middle;\n    }\n\n    .dataframe tbody tr th {\n        vertical-align: top;\n    }\n\n    .dataframe thead th {\n        text-align: right;\n    }\n</style>\n<table border=\"1\" class=\"dataframe\">\n  <thead>\n    <tr style=\"text-align: right;\">\n      <th></th>\n      <th>order_id</th>\n      <th>quantity</th>\n      <th>item_name</th>\n    </tr>\n  </thead>\n  <tbody>\n    <tr>\n      <th>0</th>\n      <td>1</td>\n      <td>1</td>\n      <td>Chips and Fresh Tomato Salsa</td>\n    </tr>\n    <tr>\n      <th>1</th>\n      <td>1</td>\n      <td>1</td>\n      <td>Izze</td>\n    </tr>\n    <tr>\n      <th>2</th>\n      <td>1</td>\n      <td>1</td>\n      <td>Nantucket Nectar</td>\n    </tr>\n    <tr>\n      <th>3</th>\n      <td>1</td>\n      <td>1</td>\n      <td>Chips and Tomatillo-Green Chili Salsa</td>\n    </tr>\n    <tr>\n      <th>4</th>\n      <td>2</td>\n      <td>2</td>\n      <td>Chicken Bowl</td>\n    </tr>\n    <tr>\n      <th>...</th>\n      <td>...</td>\n      <td>...</td>\n      <td>...</td>\n    </tr>\n    <tr>\n      <th>4617</th>\n      <td>1833</td>\n      <td>1</td>\n      <td>Steak Burrito</td>\n    </tr>\n    <tr>\n      <th>4618</th>\n      <td>1833</td>\n      <td>1</td>\n      <td>Steak Burrito</td>\n    </tr>\n    <tr>\n      <th>4619</th>\n      <td>1834</td>\n      <td>1</td>\n      <td>Chicken Salad Bowl</td>\n    </tr>\n    <tr>\n      <th>4620</th>\n      <td>1834</td>\n      <td>1</td>\n      <td>Chicken Salad Bowl</td>\n    </tr>\n    <tr>\n      <th>4621</th>\n      <td>1834</td>\n      <td>1</td>\n      <td>Chicken Salad Bowl</td>\n    </tr>\n  </tbody>\n</table>\n<p>4622 rows × 3 columns</p>\n</div>"
     },
     "execution_count": 74,
     "metadata": {},
     "output_type": "execute_result"
    }
   ],
   "source": [
    "first_three_cols = first_three_columns(food)\n",
    "first_three_cols"
   ]
  },
  {
   "cell_type": "code",
   "execution_count": null,
   "id": "a9a68b16090a09f7",
   "metadata": {
    "collapsed": false
   },
   "outputs": [],
   "source": [
    "\"\"\"\n",
    "10. Készíts egy függvényt, ami visszaadja az összes oszlopot az utolsó 2-on kívül. Használd a tisztított adatokat.\n",
    "\n",
    "fv. név: every_column_except_last_two\n",
    "bemenet: input_df\n",
    "return típus: pandas.core.frame.DataFrame\n",
    "\n",
    "\"\"\""
   ]
  },
  {
   "cell_type": "code",
   "execution_count": 75,
   "id": "1d0754a3513e5eec",
   "metadata": {
    "collapsed": false,
    "ExecuteTime": {
     "end_time": "2023-10-21T09:43:26.872969500Z",
     "start_time": "2023-10-21T09:43:26.820994300Z"
    }
   },
   "outputs": [],
   "source": [
    "def every_column_except_last_two(input_df):\n",
    "    return input_df.iloc[:, :-2]"
   ]
  },
  {
   "cell_type": "code",
   "execution_count": 76,
   "id": "64582e56a87a8160",
   "metadata": {
    "collapsed": false,
    "ExecuteTime": {
     "end_time": "2023-10-21T09:43:28.922739200Z",
     "start_time": "2023-10-21T09:43:28.873242100Z"
    }
   },
   "outputs": [
    {
     "data": {
      "text/plain": "      order_id  quantity                              item_name\n0            1         1           Chips and Fresh Tomato Salsa\n1            1         1                                   Izze\n2            1         1                       Nantucket Nectar\n3            1         1  Chips and Tomatillo-Green Chili Salsa\n4            2         2                           Chicken Bowl\n...        ...       ...                                    ...\n4617      1833         1                          Steak Burrito\n4618      1833         1                          Steak Burrito\n4619      1834         1                     Chicken Salad Bowl\n4620      1834         1                     Chicken Salad Bowl\n4621      1834         1                     Chicken Salad Bowl\n\n[4622 rows x 3 columns]",
      "text/html": "<div>\n<style scoped>\n    .dataframe tbody tr th:only-of-type {\n        vertical-align: middle;\n    }\n\n    .dataframe tbody tr th {\n        vertical-align: top;\n    }\n\n    .dataframe thead th {\n        text-align: right;\n    }\n</style>\n<table border=\"1\" class=\"dataframe\">\n  <thead>\n    <tr style=\"text-align: right;\">\n      <th></th>\n      <th>order_id</th>\n      <th>quantity</th>\n      <th>item_name</th>\n    </tr>\n  </thead>\n  <tbody>\n    <tr>\n      <th>0</th>\n      <td>1</td>\n      <td>1</td>\n      <td>Chips and Fresh Tomato Salsa</td>\n    </tr>\n    <tr>\n      <th>1</th>\n      <td>1</td>\n      <td>1</td>\n      <td>Izze</td>\n    </tr>\n    <tr>\n      <th>2</th>\n      <td>1</td>\n      <td>1</td>\n      <td>Nantucket Nectar</td>\n    </tr>\n    <tr>\n      <th>3</th>\n      <td>1</td>\n      <td>1</td>\n      <td>Chips and Tomatillo-Green Chili Salsa</td>\n    </tr>\n    <tr>\n      <th>4</th>\n      <td>2</td>\n      <td>2</td>\n      <td>Chicken Bowl</td>\n    </tr>\n    <tr>\n      <th>...</th>\n      <td>...</td>\n      <td>...</td>\n      <td>...</td>\n    </tr>\n    <tr>\n      <th>4617</th>\n      <td>1833</td>\n      <td>1</td>\n      <td>Steak Burrito</td>\n    </tr>\n    <tr>\n      <th>4618</th>\n      <td>1833</td>\n      <td>1</td>\n      <td>Steak Burrito</td>\n    </tr>\n    <tr>\n      <th>4619</th>\n      <td>1834</td>\n      <td>1</td>\n      <td>Chicken Salad Bowl</td>\n    </tr>\n    <tr>\n      <th>4620</th>\n      <td>1834</td>\n      <td>1</td>\n      <td>Chicken Salad Bowl</td>\n    </tr>\n    <tr>\n      <th>4621</th>\n      <td>1834</td>\n      <td>1</td>\n      <td>Chicken Salad Bowl</td>\n    </tr>\n  </tbody>\n</table>\n<p>4622 rows × 3 columns</p>\n</div>"
     },
     "execution_count": 76,
     "metadata": {},
     "output_type": "execute_result"
    }
   ],
   "source": [
    "selected_cols = every_column_except_last_two(food)\n",
    "selected_cols"
   ]
  },
  {
   "cell_type": "code",
   "execution_count": null,
   "id": "376c202b0fe487aa",
   "metadata": {
    "collapsed": false
   },
   "outputs": [],
   "source": [
    "\"\"\"\n",
    "11. Készíts egy függvényt, amely tetszőleges oszlopokat és sorokat ad vissza a bemeneti adatokból. A sorokat és oszlopokat listák formájában adjuk be a függvénynek. A sorokat egy bemeneti oszlop alapján szűrjük.\n",
    "\n",
    "fv. név: sliced_view\n",
    "bemenet: input_df, columns_to_keep, column_to_filter, rows_to_keep\n",
    "return type: pandas.core.frame.DataFrame\n",
    "\n",
    "\"\"\""
   ]
  },
  {
   "cell_type": "code",
   "execution_count": 77,
   "id": "3596668112e27e6",
   "metadata": {
    "collapsed": false,
    "ExecuteTime": {
     "end_time": "2023-10-21T09:53:16.712263100Z",
     "start_time": "2023-10-21T09:53:16.668510400Z"
    }
   },
   "outputs": [],
   "source": [
    "def sliced_view(input_df, columns_to_keep, column_to_filter, rows_to_keep):\n",
    "    filtered_df = input_df[input_df[column_to_filter].isin(rows_to_keep)]\n",
    "    return filtered_df[columns_to_keep]"
   ]
  },
  {
   "cell_type": "code",
   "execution_count": 78,
   "id": "6e731f8b0d4c77ee",
   "metadata": {
    "collapsed": false,
    "ExecuteTime": {
     "end_time": "2023-10-21T09:53:18.925099100Z",
     "start_time": "2023-10-21T09:53:18.853736600Z"
    }
   },
   "outputs": [
    {
     "data": {
      "text/plain": "          item_name  item_price\n7     Steak Burrito       11.75\n9     Steak Burrito        9.25\n31    Steak Burrito        8.99\n43    Steak Burrito       11.75\n46    Steak Burrito        8.99\n...             ...         ...\n4546  Steak Burrito        9.25\n4607  Steak Burrito       11.75\n4610  Steak Burrito       11.75\n4617  Steak Burrito       11.75\n4618  Steak Burrito       11.75\n\n[368 rows x 2 columns]",
      "text/html": "<div>\n<style scoped>\n    .dataframe tbody tr th:only-of-type {\n        vertical-align: middle;\n    }\n\n    .dataframe tbody tr th {\n        vertical-align: top;\n    }\n\n    .dataframe thead th {\n        text-align: right;\n    }\n</style>\n<table border=\"1\" class=\"dataframe\">\n  <thead>\n    <tr style=\"text-align: right;\">\n      <th></th>\n      <th>item_name</th>\n      <th>item_price</th>\n    </tr>\n  </thead>\n  <tbody>\n    <tr>\n      <th>7</th>\n      <td>Steak Burrito</td>\n      <td>11.75</td>\n    </tr>\n    <tr>\n      <th>9</th>\n      <td>Steak Burrito</td>\n      <td>9.25</td>\n    </tr>\n    <tr>\n      <th>31</th>\n      <td>Steak Burrito</td>\n      <td>8.99</td>\n    </tr>\n    <tr>\n      <th>43</th>\n      <td>Steak Burrito</td>\n      <td>11.75</td>\n    </tr>\n    <tr>\n      <th>46</th>\n      <td>Steak Burrito</td>\n      <td>8.99</td>\n    </tr>\n    <tr>\n      <th>...</th>\n      <td>...</td>\n      <td>...</td>\n    </tr>\n    <tr>\n      <th>4546</th>\n      <td>Steak Burrito</td>\n      <td>9.25</td>\n    </tr>\n    <tr>\n      <th>4607</th>\n      <td>Steak Burrito</td>\n      <td>11.75</td>\n    </tr>\n    <tr>\n      <th>4610</th>\n      <td>Steak Burrito</td>\n      <td>11.75</td>\n    </tr>\n    <tr>\n      <th>4617</th>\n      <td>Steak Burrito</td>\n      <td>11.75</td>\n    </tr>\n    <tr>\n      <th>4618</th>\n      <td>Steak Burrito</td>\n      <td>11.75</td>\n    </tr>\n  </tbody>\n</table>\n<p>368 rows × 2 columns</p>\n</div>"
     },
     "execution_count": 78,
     "metadata": {},
     "output_type": "execute_result"
    }
   ],
   "source": [
    "selected_data = sliced_view(food, ['item_name', 'item_price'], 'item_name', ['Steak Burrito'])\n",
    "selected_data"
   ]
  },
  {
   "cell_type": "code",
   "execution_count": null,
   "id": "47d70863b98e7ae3",
   "metadata": {
    "collapsed": false
   },
   "outputs": [],
   "source": [
    "\"\"\"\n",
    "12. Készíts egy függvényt, ami a bemeneti adatokat kiegészíti egy 'Quartile' oszloppal. Használd a tisztított adatokat. A kvartilis oszlop értékeit az ár alapján határozza meg:\n",
    "\n",
    "30 - : 'premium'\n",
    "20 - 29.99: 'high-cost'\n",
    "10 - 19.99: 'medium-cost\n",
    "0 - 9.99: 'low-cost'\n",
    "\n",
    "fv. név: generate_quartile\n",
    "bemenet: input_df\n",
    "return type: pandas.core.frame.DataFrame\n",
    "\n",
    "\"\"\""
   ]
  },
  {
   "cell_type": "code",
   "execution_count": 81,
   "id": "21d385ae84f4114d",
   "metadata": {
    "collapsed": false,
    "ExecuteTime": {
     "end_time": "2023-10-21T10:06:16.979013200Z",
     "start_time": "2023-10-21T10:06:16.889229900Z"
    }
   },
   "outputs": [],
   "source": [
    "def generate_quartile(input_df):\n",
    "    copy_df = input_df.copy()\n",
    "    quartile_labels = ['low-cost', 'medium-cost', 'high-cost', 'premium']\n",
    "    quartile_bins = [0, 9.99, 19.99, 29.99, float('inf')]\n",
    "    copy_df['Quartile'] = pd.cut(input_df['item_price'], bins=quartile_bins, labels=quartile_labels).astype('object')\n",
    "    return copy_df"
   ]
  },
  {
   "cell_type": "code",
   "execution_count": 82,
   "id": "3ad4b27111f25648",
   "metadata": {
    "collapsed": false,
    "ExecuteTime": {
     "end_time": "2023-10-21T10:06:19.026731500Z",
     "start_time": "2023-10-21T10:06:18.912717700Z"
    }
   },
   "outputs": [
    {
     "data": {
      "text/plain": "      order_id  quantity                              item_name  \\\n0            1         1           Chips and Fresh Tomato Salsa   \n1            1         1                                   Izze   \n2            1         1                       Nantucket Nectar   \n3            1         1  Chips and Tomatillo-Green Chili Salsa   \n4            2         2                           Chicken Bowl   \n...        ...       ...                                    ...   \n4617      1833         1                          Steak Burrito   \n4618      1833         1                          Steak Burrito   \n4619      1834         1                     Chicken Salad Bowl   \n4620      1834         1                     Chicken Salad Bowl   \n4621      1834         1                     Chicken Salad Bowl   \n\n                                     choice_description  item_price  \\\n0                                                   NaN        2.39   \n1                                          [Clementine]        3.39   \n2                                               [Apple]        3.39   \n3                                                   NaN        2.39   \n4     [Tomatillo-Red Chili Salsa (Hot), [Black Beans...       16.98   \n...                                                 ...         ...   \n4617  [Fresh Tomato Salsa, [Rice, Black Beans, Sour ...       11.75   \n4618  [Fresh Tomato Salsa, [Rice, Sour Cream, Cheese...       11.75   \n4619  [Fresh Tomato Salsa, [Fajita Vegetables, Pinto...       11.25   \n4620  [Fresh Tomato Salsa, [Fajita Vegetables, Lettu...        8.75   \n4621  [Fresh Tomato Salsa, [Fajita Vegetables, Pinto...        8.75   \n\n         Quartile  \n0        low-cost  \n1        low-cost  \n2        low-cost  \n3        low-cost  \n4     medium-cost  \n...           ...  \n4617  medium-cost  \n4618  medium-cost  \n4619  medium-cost  \n4620     low-cost  \n4621     low-cost  \n\n[4622 rows x 6 columns]",
      "text/html": "<div>\n<style scoped>\n    .dataframe tbody tr th:only-of-type {\n        vertical-align: middle;\n    }\n\n    .dataframe tbody tr th {\n        vertical-align: top;\n    }\n\n    .dataframe thead th {\n        text-align: right;\n    }\n</style>\n<table border=\"1\" class=\"dataframe\">\n  <thead>\n    <tr style=\"text-align: right;\">\n      <th></th>\n      <th>order_id</th>\n      <th>quantity</th>\n      <th>item_name</th>\n      <th>choice_description</th>\n      <th>item_price</th>\n      <th>Quartile</th>\n    </tr>\n  </thead>\n  <tbody>\n    <tr>\n      <th>0</th>\n      <td>1</td>\n      <td>1</td>\n      <td>Chips and Fresh Tomato Salsa</td>\n      <td>NaN</td>\n      <td>2.39</td>\n      <td>low-cost</td>\n    </tr>\n    <tr>\n      <th>1</th>\n      <td>1</td>\n      <td>1</td>\n      <td>Izze</td>\n      <td>[Clementine]</td>\n      <td>3.39</td>\n      <td>low-cost</td>\n    </tr>\n    <tr>\n      <th>2</th>\n      <td>1</td>\n      <td>1</td>\n      <td>Nantucket Nectar</td>\n      <td>[Apple]</td>\n      <td>3.39</td>\n      <td>low-cost</td>\n    </tr>\n    <tr>\n      <th>3</th>\n      <td>1</td>\n      <td>1</td>\n      <td>Chips and Tomatillo-Green Chili Salsa</td>\n      <td>NaN</td>\n      <td>2.39</td>\n      <td>low-cost</td>\n    </tr>\n    <tr>\n      <th>4</th>\n      <td>2</td>\n      <td>2</td>\n      <td>Chicken Bowl</td>\n      <td>[Tomatillo-Red Chili Salsa (Hot), [Black Beans...</td>\n      <td>16.98</td>\n      <td>medium-cost</td>\n    </tr>\n    <tr>\n      <th>...</th>\n      <td>...</td>\n      <td>...</td>\n      <td>...</td>\n      <td>...</td>\n      <td>...</td>\n      <td>...</td>\n    </tr>\n    <tr>\n      <th>4617</th>\n      <td>1833</td>\n      <td>1</td>\n      <td>Steak Burrito</td>\n      <td>[Fresh Tomato Salsa, [Rice, Black Beans, Sour ...</td>\n      <td>11.75</td>\n      <td>medium-cost</td>\n    </tr>\n    <tr>\n      <th>4618</th>\n      <td>1833</td>\n      <td>1</td>\n      <td>Steak Burrito</td>\n      <td>[Fresh Tomato Salsa, [Rice, Sour Cream, Cheese...</td>\n      <td>11.75</td>\n      <td>medium-cost</td>\n    </tr>\n    <tr>\n      <th>4619</th>\n      <td>1834</td>\n      <td>1</td>\n      <td>Chicken Salad Bowl</td>\n      <td>[Fresh Tomato Salsa, [Fajita Vegetables, Pinto...</td>\n      <td>11.25</td>\n      <td>medium-cost</td>\n    </tr>\n    <tr>\n      <th>4620</th>\n      <td>1834</td>\n      <td>1</td>\n      <td>Chicken Salad Bowl</td>\n      <td>[Fresh Tomato Salsa, [Fajita Vegetables, Lettu...</td>\n      <td>8.75</td>\n      <td>low-cost</td>\n    </tr>\n    <tr>\n      <th>4621</th>\n      <td>1834</td>\n      <td>1</td>\n      <td>Chicken Salad Bowl</td>\n      <td>[Fresh Tomato Salsa, [Fajita Vegetables, Pinto...</td>\n      <td>8.75</td>\n      <td>low-cost</td>\n    </tr>\n  </tbody>\n</table>\n<p>4622 rows × 6 columns</p>\n</div>"
     },
     "execution_count": 82,
     "metadata": {},
     "output_type": "execute_result"
    }
   ],
   "source": [
    "food_with_quartile = generate_quartile(food)\n",
    "food_with_quartile"
   ]
  },
  {
   "cell_type": "code",
   "execution_count": null,
   "id": "bb70c884473a7679",
   "metadata": {
    "collapsed": false
   },
   "outputs": [],
   "source": [
    "\"\"\"\n",
    "13., Készíts egy függvényt, ami minden kvartilis értékhez kiszámítja, az átlagos árat. Használd az előző feladat eredményét bemenetként.\n",
    "\n",
    "fn név: average_price_in_quartiles\n",
    "bemenet: input_df\n",
    "return type: pandas.core.frame.DataFrame\n",
    "\n",
    "\"\"\""
   ]
  },
  {
   "cell_type": "code",
   "execution_count": 87,
   "id": "dad25f20c5ac3ec6",
   "metadata": {
    "collapsed": false,
    "ExecuteTime": {
     "end_time": "2023-10-21T10:15:11.554440Z",
     "start_time": "2023-10-21T10:15:11.478748200Z"
    }
   },
   "outputs": [],
   "source": [
    "def average_price_in_quartiles(input_df):\n",
    "    copy_df = input_df.copy()\n",
    "    avg_price_in_quartiles = copy_df.groupby('Quartile')['item_price'].mean().reset_index()\n",
    "\n",
    "    return avg_price_in_quartiles['item_price']"
   ]
  },
  {
   "cell_type": "code",
   "execution_count": 88,
   "id": "8a8aa5257e5e9f81",
   "metadata": {
    "collapsed": false,
    "ExecuteTime": {
     "end_time": "2023-10-21T10:15:13.499382300Z",
     "start_time": "2023-10-21T10:15:13.453061200Z"
    }
   },
   "outputs": [
    {
     "name": "stderr",
     "output_type": "stream",
     "text": [
      "C:\\Users\\Balazs\\AppData\\Local\\Temp\\ipykernel_8716\\483728892.py:3: FutureWarning: The default of observed=False is deprecated and will be changed to True in a future version of pandas. Pass observed=False to retain current behavior or observed=True to adopt the future default and silence this warning.\n",
      "  avg_price_in_quartiles = copy_df.groupby('Quartile')['item_price'].mean().reset_index()\n"
     ]
    },
    {
     "data": {
      "text/plain": "   item_price\n0    5.869593\n1   11.853084\n2   23.181951\n3   36.031667",
      "text/html": "<div>\n<style scoped>\n    .dataframe tbody tr th:only-of-type {\n        vertical-align: middle;\n    }\n\n    .dataframe tbody tr th {\n        vertical-align: top;\n    }\n\n    .dataframe thead th {\n        text-align: right;\n    }\n</style>\n<table border=\"1\" class=\"dataframe\">\n  <thead>\n    <tr style=\"text-align: right;\">\n      <th></th>\n      <th>item_price</th>\n    </tr>\n  </thead>\n  <tbody>\n    <tr>\n      <th>0</th>\n      <td>5.869593</td>\n    </tr>\n    <tr>\n      <th>1</th>\n      <td>11.853084</td>\n    </tr>\n    <tr>\n      <th>2</th>\n      <td>23.181951</td>\n    </tr>\n    <tr>\n      <th>3</th>\n      <td>36.031667</td>\n    </tr>\n  </tbody>\n</table>\n</div>"
     },
     "execution_count": 88,
     "metadata": {},
     "output_type": "execute_result"
    }
   ],
   "source": [
    "avg_price_quartiles = average_price_in_quartiles(food_with_quartile)\n",
    "avg_price_quartiles"
   ]
  },
  {
   "cell_type": "code",
   "execution_count": null,
   "id": "1fa60ba13b667576",
   "metadata": {
    "collapsed": false
   },
   "outputs": [],
   "source": [
    "\"\"\"\n",
    "14., Készíts egy függvényt ami minden kvartilis esetén visszadja az árak minimális és maximális értékét, valamint az átlagát.\n",
    "\n",
    "fv. név: minmaxmean_price_in_quartile\n",
    "bemenet: input_df\n",
    "return type: pandas.core.frame.DataFrame\n",
    "\"\"\""
   ]
  },
  {
   "cell_type": "code",
   "execution_count": 91,
   "id": "a4166f92696d8f3c",
   "metadata": {
    "collapsed": false,
    "ExecuteTime": {
     "end_time": "2023-10-21T10:20:40.664106100Z",
     "start_time": "2023-10-21T10:20:40.615504600Z"
    }
   },
   "outputs": [],
   "source": [
    "def minmaxmean_price_in_quartile(input_df):\n",
    "    copy_df = input_df.copy()\n",
    "    minmax_blocks = copy_df.groupby('Quartile')['item_price'].agg(['min', 'max', 'mean']).reset_index(drop=True)\n",
    "    return minmax_blocks"
   ]
  },
  {
   "cell_type": "code",
   "execution_count": 92,
   "id": "accb935cb089b427",
   "metadata": {
    "collapsed": false,
    "ExecuteTime": {
     "end_time": "2023-10-21T10:20:42.847152Z",
     "start_time": "2023-10-21T10:20:42.756816600Z"
    }
   },
   "outputs": [
    {
     "name": "stderr",
     "output_type": "stream",
     "text": [
      "C:\\Users\\Balazs\\AppData\\Local\\Temp\\ipykernel_8716\\3654725702.py:3: FutureWarning: The default of observed=False is deprecated and will be changed to True in a future version of pandas. Pass observed=False to retain current behavior or observed=True to adopt the future default and silence this warning.\n",
      "  minmax_blocks = copy_df.groupby('Quartile')['item_price'].agg(['min', 'max', 'mean']).reset_index(drop=True)\n"
     ]
    },
    {
     "data": {
      "text/plain": "     min    max       mean\n0   1.09   9.39   5.869593\n1  10.50  18.50  11.853084\n2  21.96  27.75  23.181951\n3  32.94  44.25  36.031667",
      "text/html": "<div>\n<style scoped>\n    .dataframe tbody tr th:only-of-type {\n        vertical-align: middle;\n    }\n\n    .dataframe tbody tr th {\n        vertical-align: top;\n    }\n\n    .dataframe thead th {\n        text-align: right;\n    }\n</style>\n<table border=\"1\" class=\"dataframe\">\n  <thead>\n    <tr style=\"text-align: right;\">\n      <th></th>\n      <th>min</th>\n      <th>max</th>\n      <th>mean</th>\n    </tr>\n  </thead>\n  <tbody>\n    <tr>\n      <th>0</th>\n      <td>1.09</td>\n      <td>9.39</td>\n      <td>5.869593</td>\n    </tr>\n    <tr>\n      <th>1</th>\n      <td>10.50</td>\n      <td>18.50</td>\n      <td>11.853084</td>\n    </tr>\n    <tr>\n      <th>2</th>\n      <td>21.96</td>\n      <td>27.75</td>\n      <td>23.181951</td>\n    </tr>\n    <tr>\n      <th>3</th>\n      <td>32.94</td>\n      <td>44.25</td>\n      <td>36.031667</td>\n    </tr>\n  </tbody>\n</table>\n</div>"
     },
     "execution_count": 92,
     "metadata": {},
     "output_type": "execute_result"
    }
   ],
   "source": [
    "minmaxmean_prices_quartiles = minmaxmean_price_in_quartile(food_with_quartile)\n",
    "minmaxmean_prices_quartiles"
   ]
  },
  {
   "cell_type": "code",
   "execution_count": null,
   "id": "10b9f08f28204e28",
   "metadata": {
    "collapsed": false
   },
   "outputs": [],
   "source": [
    "\"\"\"\n",
    "15. Készíts egy függvényt, ami létrehoz egy listát, benne number_of_trajectories db listával. A belső listák létrehozásának logikája a következő:\n",
    "    A bemeneti paraméterként kapott distribution osztály felhasználásával (UniformDistribution 0,1 paraméterekkel) generálj length_of_trajectory véletlen számot\n",
    "    A belső lista tartalmazza a generált számok kumulatív átlagát.\n",
    "    Ismételd meg number_of_trajectories alkalommal (mindegyik belső listába egyszer)\n",
    "    A seed értéke legyen 42.\n",
    "\n",
    "függvény bemenete: distribution, number_of_trajectories, length_of_trajectory\n",
    "kimeneti típus: List    \n",
    "függvény neve: gen_uniform_mean_trajectories\n",
    "\"\"\""
   ]
  },
  {
   "cell_type": "code",
   "execution_count": 10,
   "outputs": [],
   "source": [
    "import src.utils.distributions as dist\n",
    "import random"
   ],
   "metadata": {
    "collapsed": false,
    "ExecuteTime": {
     "end_time": "2023-10-22T08:40:05.839747800Z",
     "start_time": "2023-10-22T08:40:05.151989500Z"
    }
   },
   "id": "28128c255d3651da"
  },
  {
   "cell_type": "code",
   "execution_count": 11,
   "id": "47062ae9a2ba3c0d",
   "metadata": {
    "collapsed": false,
    "ExecuteTime": {
     "end_time": "2023-10-22T08:40:08.705456500Z",
     "start_time": "2023-10-22T08:40:08.607334600Z"
    }
   },
   "outputs": [],
   "source": [
    "def gen_uniform_mean_trajectories(distribution, number_of_trajectories, length_of_trajectory):\n",
    "    distribution.rand.seed(42)\n",
    "    \n",
    "    trajectories = []\n",
    "\n",
    "    for _ in range(number_of_trajectories):\n",
    "        trajectory = []\n",
    "        cumulative_sum = 0.0\n",
    "        \n",
    "        for _ in range(length_of_trajectory):\n",
    "            random_number = distribution.gen_rand()\n",
    "            cumulative_sum += random_number\n",
    "            trajectory.append(cumulative_sum / (len(trajectory) + 1))\n",
    "\n",
    "        trajectories.append(trajectory)\n",
    "\n",
    "    return trajectories"
   ]
  },
  {
   "cell_type": "code",
   "execution_count": 12,
   "id": "c1b1f595c241254b",
   "metadata": {
    "collapsed": false,
    "ExecuteTime": {
     "end_time": "2023-10-22T08:40:16.280816500Z",
     "start_time": "2023-10-22T08:40:16.165832300Z"
    }
   },
   "outputs": [
    {
     "data": {
      "text/plain": "[[0.6394267984578837,\n  0.33221877684027534,\n  0.31315562401655667,\n  0.29066940254962315,\n  0.379829764872501,\n  0.42930805196423605,\n  0.4954325542128945,\n  0.4443708390149597,\n  0.44187650353388314,\n  0.4006685751243019],\n [0.21863797480360336,\n  0.3619966314534829,\n  0.2501764108636098,\n  0.23734172081936947,\n  0.3198502642114002,\n  0.3573654669433696,\n  0.33780477481441634,\n  0.36923738844710285,\n  0.4181477293616277,\n  0.376982832393271],\n [0.8058192518328079,\n  0.7519793234105174,\n  0.6147363877796755,\n  0.4999221657877021,\n  0.591380347071518,\n  0.5489160467450361,\n  0.48374887483576634,\n  0.4353698125854786,\n  0.4811614296701432,\n  0.493417889839818],\n [0.8071282732743802,\n  0.768430029984099,\n  0.691029383807633,\n  0.7615509788505674,\n  0.6849476585221247,\n  0.662796487313975,\n  0.6865976554481207,\n  0.6780879175626364,\n  0.6984900267568742,\n  0.686376238606863],\n [0.7045718362149235,\n  0.37519810993529285,\n  0.32609816517404416,\n  0.31692061478105993,\n  0.26949488720957343,\n  0.26337755373481625,\n  0.24018096454551804,\n  0.2449050443660898,\n  0.28832497768812426,\n  0.29597569781632027]]"
     },
     "execution_count": 12,
     "metadata": {},
     "output_type": "execute_result"
    }
   ],
   "source": [
    "# usage\n",
    "distribution = dist.UniformDistribution(random, 0,1)\n",
    "number_of_trajectories = 5\n",
    "length_of_trajectory = 10\n",
    "trajectories = gen_uniform_mean_trajectories(distribution, number_of_trajectories, length_of_trajectory)\n",
    "trajectories"
   ]
  },
  {
   "cell_type": "code",
   "execution_count": null,
   "id": "3857db99deaa3a1a",
   "metadata": {
    "collapsed": false
   },
   "outputs": [],
   "source": [
    "\"\"\"\n",
    "16. Készíts egy függvényt, ami létrehoz egy listát, benne number_of_trajectories db listával. A belső listák létrehozásának logikája a következő:\n",
    "    A bemeneti paraméterként kapott distribution osztály felhasználásával (LogisticDistribution 1, 3.3 paraméterekkel) generálj length_of_trajectory véletlen számot\n",
    "    A belső lista tartalmazza a generált számok kumulatív átlagát.\n",
    "    Ismételd meg number_of_trajectories alkalommal (mindegyik belső listába egyszer)\n",
    "    A seed értéke legyen 42.\n",
    "\n",
    "függvény bemenete: distribution, number_of_trajectories, length_of_trajectory\n",
    "kimeneti típus: List    \n",
    "függvény neve: gen_logistic_mean_trajectories\n",
    "\"\"\""
   ]
  },
  {
   "cell_type": "code",
   "execution_count": null,
   "outputs": [],
   "source": [
    "def gen_logistic_mean_trajectories(distribution, number_of_trajectories, length_of_trajectory):\n",
    "    distribution.rand.seed(42)\n",
    "    \n",
    "    trajectories = []\n",
    "\n",
    "    for _ in range(number_of_trajectories):\n",
    "        trajectory = []\n",
    "        cumulative_sum = 0.0\n",
    "        \n",
    "        for _ in range(length_of_trajectory):\n",
    "            random_number = distribution.gen_rand()\n",
    "            cumulative_sum += random_number\n",
    "            trajectory.append(cumulative_sum / (len(trajectory) + 1))\n",
    "\n",
    "        trajectories.append(trajectory)\n",
    "\n",
    "    return trajectories"
   ],
   "metadata": {
    "collapsed": false
   },
   "id": "7abb690a4366a416"
  },
  {
   "cell_type": "code",
   "execution_count": null,
   "outputs": [],
   "source": [],
   "metadata": {
    "collapsed": false
   },
   "id": "9ef153c86975f584"
  },
  {
   "cell_type": "code",
   "execution_count": null,
   "outputs": [],
   "source": [
    "\"\"\"\n",
    "17. Készíts egy függvényt, ami létrehoz egy listát, benne number_of_trajectories db listával. A belső listák létrehozásának logikája a következő:\n",
    "    A bemeneti paraméterként kapott distribution osztály felhasználásával (LaplaceDistribution 1, 3.3 paraméterekkel) generálj length_of_trajectory véletlen számot\n",
    "    A belső lista tartalmazza a generált számok kumulatív átlagát.\n",
    "    Ismételd meg number_of_trajectories alkalommal (mindegyik belső listába egyszer)\n",
    "    A seed értéke legyen 42.\n",
    "\n",
    "függvény bemenete: distribution, number_of_trajectories, length_of_trajectory\n",
    "kimeneti típus: List    \n",
    "függvény neve: gen_laplace_mean_trajectories\n",
    "\"\"\""
   ],
   "metadata": {
    "collapsed": false
   },
   "id": "4a0a34d82f78f1f7"
  },
  {
   "cell_type": "code",
   "execution_count": null,
   "outputs": [],
   "source": [
    "def gen_laplace_mean_trajectories(distribution, number_of_trajectories, length_of_trajectory):\n",
    "    distribution.rand.seed(42)\n",
    "    \n",
    "    trajectories = []\n",
    "\n",
    "    for _ in range(number_of_trajectories):\n",
    "        trajectory = []\n",
    "        cumulative_sum = 0.0\n",
    "        \n",
    "        for _ in range(length_of_trajectory):\n",
    "            random_number = distribution.gen_rand()\n",
    "            cumulative_sum += random_number\n",
    "            trajectory.append(cumulative_sum / (len(trajectory) + 1))\n",
    "\n",
    "        trajectories.append(trajectory)\n",
    "\n",
    "    return trajectories"
   ],
   "metadata": {
    "collapsed": false
   },
   "id": "a77e96e5081b079b"
  },
  {
   "cell_type": "code",
   "execution_count": null,
   "outputs": [],
   "source": [],
   "metadata": {
    "collapsed": false
   },
   "id": "3846a1c67739b3ce"
  },
  {
   "cell_type": "code",
   "execution_count": null,
   "outputs": [],
   "source": [
    "\"\"\"\n",
    "18. Készíts egy függvényt, ami létrehoz egy listát, benne number_of_trajectories db listával. A belső listák létrehozásának logikája a következő:\n",
    "    A bemeneti paraméterként kapott distribution osztály felhasználásával (CauchyDistribution 2,4 paraméterekkel) generálj length_of_trajectory véletlen számot\n",
    "    A belső lista tartalmazza a generált számok kumulatív átlagát.\n",
    "    Ismételd meg number_of_trajectories alkalommal (mindegyik belső listába egyszer)\n",
    "    A seed értéke legyen 42.\n",
    "\n",
    "függvény bemenete: distribution, number_of_trajectories, length_of_trajectory\n",
    "kimeneti típus: List    \n",
    "függvény neve: gen_cauchy_mean_trajectories\n",
    "\"\"\""
   ],
   "metadata": {
    "collapsed": false
   },
   "id": "4eac338e5ed7e03b"
  },
  {
   "cell_type": "code",
   "execution_count": null,
   "outputs": [],
   "source": [
    "def gen_cauchy_mean_trajectories(distribution, number_of_trajectories, length_of_trajectory):\n",
    "    distribution.rand.seed(42)\n",
    "    \n",
    "    trajectories = []\n",
    "\n",
    "    for _ in range(number_of_trajectories):\n",
    "        trajectory = []\n",
    "        cumulative_sum = 0.0\n",
    "        \n",
    "        for _ in range(length_of_trajectory):\n",
    "            random_number = distribution.gen_rand()\n",
    "            cumulative_sum += random_number\n",
    "            trajectory.append(cumulative_sum / (len(trajectory) + 1))\n",
    "\n",
    "        trajectories.append(trajectory)\n",
    "\n",
    "    return trajectories"
   ],
   "metadata": {
    "collapsed": false
   },
   "id": "46ed1c9a25c56aec"
  },
  {
   "cell_type": "code",
   "execution_count": null,
   "outputs": [],
   "source": [],
   "metadata": {
    "collapsed": false
   },
   "id": "c9c118d43729fc7a"
  },
  {
   "cell_type": "code",
   "execution_count": null,
   "outputs": [],
   "source": [
    "\"\"\"\n",
    "19. Készíts egy függvényt, ami létrehoz egy listát, benne number_of_trajectories db listával. A belső listák létrehozásának logikája a következő:\n",
    "    A bemeneti paraméterként kapott distribution osztály felhasználásával (ChiSquaredDistribution 3 paraméterrel) generálj length_of_trajectory véletlen számot\n",
    "    A belső lista tartalmazza a generált számok kumulatív átlagát.\n",
    "    Ismételd meg number_of_trajectories alkalommal (mindegyik belső listába egyszer)\n",
    "    A seed értéke legyen 42.\n",
    "\n",
    "függvény bemenete: distribution, number_of_trajectories, length_of_trajectory\n",
    "kimeneti típus: List    \n",
    "függvény neve: gen_chi2_mean_trajectories\n",
    "\"\"\""
   ],
   "metadata": {
    "collapsed": false
   },
   "id": "a506ece2fa8329f2"
  },
  {
   "cell_type": "code",
   "execution_count": null,
   "outputs": [],
   "source": [
    "def gen_chi2_mean_trajectories(distribution, number_of_trajectories, length_of_trajectory):\n",
    "    distribution.rand.seed(42)\n",
    "    \n",
    "    trajectories = []\n",
    "\n",
    "    for _ in range(number_of_trajectories):\n",
    "        trajectory = []\n",
    "        cumulative_sum = 0.0\n",
    "        \n",
    "        for _ in range(length_of_trajectory):\n",
    "            random_number = distribution.gen_rand()\n",
    "            cumulative_sum += random_number\n",
    "            trajectory.append(cumulative_sum / (len(trajectory) + 1))\n",
    "\n",
    "        trajectories.append(trajectory)\n",
    "\n",
    "    return trajectories"
   ],
   "metadata": {
    "collapsed": false
   },
   "id": "7571d5df9c5435c"
  },
  {
   "cell_type": "code",
   "execution_count": null,
   "outputs": [],
   "source": [],
   "metadata": {
    "collapsed": false
   },
   "id": "cec5861b841868fa"
  }
 ],
 "metadata": {
  "kernelspec": {
   "display_name": "Python 3 (ipykernel)",
   "language": "python",
   "name": "python3"
  },
  "language_info": {
   "codemirror_mode": {
    "name": "ipython",
    "version": 3
   },
   "file_extension": ".py",
   "mimetype": "text/x-python",
   "name": "python",
   "nbconvert_exporter": "python",
   "pygments_lexer": "ipython3",
   "version": "3.10.4"
  }
 },
 "nbformat": 4,
 "nbformat_minor": 5
}
