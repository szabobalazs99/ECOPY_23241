{
 "cells": [
  {
   "cell_type": "markdown",
   "id": "de9d9737616514b8",
   "metadata": {
    "collapsed": false
   },
   "source": [
    "## A zárthelyi során a kitöltött notebookot nevezd át a következő formában és pushold a saját GitHub repository-dba a megadott határidőig. <u>FinalTest-NeptunKód.ipynb</u>\n",
    "#### Használható: _random, matplotlib, pathlib, pandas, typing, str, numpy és az eddig elkészített_ modulok, valamint a _scipy.stats t_ osztálya. Ettől való eltérés során mind a feladat megoldás, mind a ráépülő megoldások 0 pontot érnek"
   ]
  },
  {
   "cell_type": "markdown",
   "source": [
    "### Szimuláció (6 pont)\n",
    "1.,  Készíts egy függvényt, ami létrehoz egy listát, benne **number_of_trajectories** darab listával. A belső listák létrehozásának logikája a következő:\n",
    "* A bemeneti paraméterként kapott __pareto_distribution__ osztály felhasználásával generálj **length_of_trajectory** véletlen számot belső lista tartalmazza a generált számok kumulatív átlagát.\n",
    "* Ismételd meg number_of_trajectories alkalommal (mindegyik belső listába egyszer.\n",
    "* Seed értéke legyen <u>42</u>.\n",
    "* Függvény bemenete: distribution, number_of_trajectories, length_of_trajectory\n",
    "* Kimeneti típus: List    \n",
    "* Függvény neve: **gen_pareto_mean_trajectories**\n",
    "     \n",
    "2., Készíts egy ábrát a következő paraméterekkel: \n",
    "* Szimulálj adatokat a gen_pareto_mean_trajectories segítségével\n",
    "* Pareto eloszlás scale 0.4, shape 1.25\n",
    "* Trajektóriák száma 3\n",
    "* Trajektória hossza 10 000\n",
    "* Jelenítsd meg az eloszlás várható értékét\n",
    "* X tengely címe: Observation in trajectory\n",
    "* Y tengely címe: Cumulative average of trajectory\n",
    "\n",
    "3., Készíts egy függvényt, ami létrehoz egy listát, benne **number_of_trajectories** darab listával. A belső listák létrehozásának logikája a következő:\n",
    "* A bemeneti paraméterként kapott __laplace_distribution__ osztály felhasználásával generálj **length_of_trajectory** véletlen számot belső lista tartalmazza a generált számok kumulatív átlagát.\n",
    "* Ismételd meg number_of_trajectories alkalommal (mindegyik belső listába egyszer.\n",
    "* Seed értéke legyen <u>42</u>.\n",
    "* Függvény bemenete: distribution, number_of_trajectories, length_of_trajectory\n",
    "* Kimeneti típus: List    \n",
    "* Függvény neve: **gen_laplace_mean_trajectories**\n",
    "\n",
    "4., Készíts egy ábrát a következő paraméterekkel: \n",
    "* Szimulálj adatokat a gen_laplace_mean_trajectories segítségével\n",
    "* Laplace eloszlás scale 0.4, loc 2\n",
    "* Trajektóriák száma 5\n",
    "* Trajektória hossza 10 000\n",
    "* Jelenítsd meg az eloszlás várható értékét\n",
    "* X tengely címe: Observation in trajectory\n",
    "* Y tengely címe: Cumulative average of trajectory\n"
   ],
   "metadata": {
    "collapsed": false
   },
   "id": "2f2f9da7d2af162c"
  },
  {
   "cell_type": "markdown",
   "source": [
    "2. Pareto várt megoldás\n",
    "![pareto_solution](../resources/final/pareto.png)"
   ],
   "metadata": {
    "collapsed": false
   },
   "id": "17ba6332fcb85999"
  },
  {
   "cell_type": "markdown",
   "source": [
    "4. Laplace várt megoldás\n",
    "![laplace_solution](../resources/final/laplace.png)"
   ],
   "metadata": {
    "collapsed": false
   },
   "id": "e640c5845ebad9c0"
  },
  {
   "cell_type": "code",
   "execution_count": null,
   "outputs": [],
   "source": [],
   "metadata": {
    "collapsed": false
   },
   "id": "6a757681568abcd0"
  },
  {
   "cell_type": "code",
   "execution_count": null,
   "outputs": [],
   "source": [],
   "metadata": {
    "collapsed": false
   },
   "id": "1af045efaaaa1113"
  },
  {
   "cell_type": "markdown",
   "source": [
    "### Adatelőkészítés (6 pont)\n",
    "1., Olvasd be a data mappa __sp500.parquet__ nevű fájlját egy DataFrame-be. A betöltéshez használt engine paramétere legyen <u>fastparquet</u>\n",
    "2., Olvasd be az __ff_factors.parquet__ fájlt egy DataFrame-be. A betöltéshez használt engine paramétere legyen <u>fastparquet</u>\n",
    "3., Kapcsold össze a két DataFrame-t egy új DataFrame-be. Az összekapcsolás módja, hogy a hozam adatokra balról kapcsoljuk rá a factor adatokat a __'Date' elsődleges kulcs__ alapján.\n",
    "4., Készíts egy új __'Excess Return'__ nevű oszlopot, ami a havi hozamok és a kockázat mentes hozam (RF) különbsége\n",
    "5., <u>Rendezd sorba dátum szerint az adatokat</u>, majd generálj egy új oszlopot (__'ex_ret_1'__), amely minden ticker ('Symbol') esetén 1-el eltolja az Excess Return értékeit olyan módon, hogy minden sorban szerepeljen a <u>következő időszaki Excess Return</u> érték. \n",
    "6., A meglévő adathalmazt írd felül olyan módon, hogy egyszer <u>törlöd az össze olyan sort</u>, amely az __'ex_ret_1' oszlopban hiányos__, majd ezt követően, törlöd az összes olyan sort, ami a __'HML' oszlopban hiányos__.\n"
   ],
   "metadata": {
    "collapsed": false
   },
   "id": "dad5a013c358987e"
  },
  {
   "cell_type": "markdown",
   "source": [
    "3. feladat segítség\n",
    "![Joined data](../resources/weekly6/joined_data.jpg)"
   ],
   "metadata": {
    "collapsed": false
   },
   "id": "cf54c6765186a23e"
  },
  {
   "cell_type": "markdown",
   "source": [
    "5. feladat segítség\n",
    "![new column](../resources/weekly6/ex_ret_1.jpg)"
   ],
   "metadata": {
    "collapsed": false
   },
   "id": "a6be746933376572"
  },
  {
   "cell_type": "markdown",
   "source": [
    "Teljesített feladat\n",
    "![full_data](../resources/final/return_data.jpg)"
   ],
   "metadata": {
    "collapsed": false
   },
   "id": "3e6d0b0f5f05dc4e"
  },
  {
   "cell_type": "markdown",
   "source": [
    "### Modell összeállítás (12 pont)\n",
    "\n",
    "A meglévő adatokból válaszd ki a __Amazon részvényhez tartozó sorokat (AMZN)__, mentsd ki egy új DataFrame-be. Az új DataFrame-ból töröld a tickereket tartalmazó oszlopot.\n",
    "\n",
    "1., Készíts egy új __LinearRegressionFT__ elnevezésű osztályt. Definiáld benne a __\\_\\_init\\_\\___ nevű függvényt, amely bemenetként 2 DataFrame-t kap amelyeket ments le a left_hand_side és right_hand_side elnevezésű változókba. Az egyik DataFrame fogja tartalmazni a következő hónap többlet hozamait (__left_hand_side__), a másik a piaci hozamokat (Mkt-RF), az SMB és a HML értékeket (__right_hand_side__).\n",
    "\n",
    "2., Egésztsd ki az osztályt egy __fit__ metódussal, ami OLS elvű becslést hajt végre. Figyelj oda, hogy a regresszió futtatása során konstans (alfa / béta_0) is szerepeljen a predictor változók között, amely az első változó legyen.\n",
    "\n",
    "3., Egészítsd ki az osztályt egy __get_params__ metódussal, ami visszaadja a becsült modell béta paramétereinek értékeit. A visszakapott pandas Series típusú adatban az oszlop neve legyen __Beta coefficients__. \n",
    "\n",
    "4., Egészítse ki az osztályt egy __get_wild_se__ metódussal, ami visszaadja a bemeneti bootstrap minták száma (__number_of_bootstrap_samples__) és a random seed (__random_seed__) alapján a koefficiensek becsült standard hiba értékit. A visszakapott pandas Series típusú adatban az oszlop neve legyen __Wild bootstrap standard errors for the corrseponding coefficients__. A szignifikancia szintről feltételezzük, hogy 0 és 1 közötti érték, és a bemeneti értéket még a kétoldalúság miatt feleznünk kell.\n",
    " \n",
    "5., Egészítsd ki az osztályt egy __get_pvalues__ metódussal, ami visszaadja a becsült modell paraméterekhez tartozó p értékeket. A visszakapott pandas Series típusú adatban az oszlop neve legyen: __P-values for the corresponding coefficients__. A p értéket t statisztika és a wild bootstrap alapján számolt standard hibák segítségével számold ki\n",
    "\n",
    "6., Egészítsd ki az osztályt egy __get_pivot_ci__ metódussal, ami visszaadja a becsült modell paraméterekhez konfidencia intervallumokat, a bemeneti a szignifikancia szint (__alpha__) alapján. A megoldás során a bootstrappelt mintából, pivot módszer segítségével számold ki a konfidencia intervallum alsó és felső határát minden változóra. A visszakapott pandas DataFrame típusú adatban az oszlopok neve legyen rendre __Pivot CI lowerbound__ és __Pivot CI upperbound__. A szignifikancia szintről feltételezzük, hogy 0 és 1 közötti érték, és a bemeneti értéket még a kétoldalúság miatt feleznünk kell.\n",
    "\n",
    "7., Egészítse ki az osztályt egy __get_model_goodness_values__ metódussal, ami visszadja a centrált és a módosított R-négyzet értékeket. A visszatérési típus string legyen, a visszaadandó szöveg: __Centered R-squared: crs, Adjusted R-squared: ars__, ahol crs és ars helyére 3 tizedesjegyre kerekítve (__:.3f__) add meg a hozzájuk tartozó értékeket. <u>Ha a regresszorok számába eredetileg beleszámítottad a konstanst is, akkor a módosított R-négyzet számítás nevezőjében nincs szükség a __-1__-es tagra</u>."
   ],
   "metadata": {
    "collapsed": false
   },
   "id": "1888d0ef54d4b2c3"
  },
  {
   "cell_type": "code",
   "execution_count": null,
   "outputs": [],
   "source": [],
   "metadata": {
    "collapsed": false
   },
   "id": "aaf0449497b4b53b"
  },
  {
   "cell_type": "code",
   "execution_count": null,
   "outputs": [],
   "source": [],
   "metadata": {
    "collapsed": false
   },
   "id": "f2598c55fef38b3f"
  },
  {
   "cell_type": "markdown",
   "source": [
    "3. feladat elvárt megoldás\n",
    "![betas](../resources/final/betas.jpg)"
   ],
   "metadata": {
    "collapsed": false
   },
   "id": "8507a1da0b8e60b3"
  },
  {
   "cell_type": "code",
   "execution_count": null,
   "outputs": [],
   "source": [],
   "metadata": {
    "collapsed": false
   },
   "id": "a1817207f35d3d5d"
  },
  {
   "cell_type": "markdown",
   "source": [
    "4. feladat elvárt megoldás 42-es seed és 5000-es bootstrap sample mellett\n",
    "![wild_bootstrap_se_result](../resources/final/se.jpg)"
   ],
   "metadata": {
    "collapsed": false
   },
   "id": "4aa2f67c57301990"
  },
  {
   "cell_type": "code",
   "execution_count": null,
   "outputs": [],
   "source": [],
   "metadata": {
    "collapsed": false
   },
   "id": "de21cd6be15e03b9"
  },
  {
   "cell_type": "markdown",
   "source": [
    "5. feladat elvárt megoldás\n",
    "![p_values](../resources/final/pvalue.jpg)"
   ],
   "metadata": {
    "collapsed": false
   },
   "id": "95d6a3955b550ba2"
  },
  {
   "cell_type": "code",
   "execution_count": null,
   "outputs": [],
   "source": [],
   "metadata": {
    "collapsed": false
   },
   "id": "857eb08938ef571b"
  },
  {
   "cell_type": "markdown",
   "source": [
    "6. eladat elvárt megoldás\n",
    "![confidence](../resources/final/ci.jpg)"
   ],
   "metadata": {
    "collapsed": false
   },
   "id": "f620b7ec5e3bbe"
  },
  {
   "cell_type": "code",
   "execution_count": null,
   "outputs": [],
   "source": [],
   "metadata": {
    "collapsed": false
   },
   "id": "ce82b4ec8a87923b"
  },
  {
   "cell_type": "markdown",
   "source": [
    "7. feladat elvárt megoldás\n",
    "![rsquared](../resources/final/rsquared.jpg)"
   ],
   "metadata": {
    "collapsed": false
   },
   "id": "a420109f0d63a68a"
  },
  {
   "cell_type": "code",
   "execution_count": null,
   "outputs": [],
   "source": [],
   "metadata": {
    "collapsed": false
   },
   "id": "7b40a080c09c561a"
  }
 ],
 "metadata": {
  "kernelspec": {
   "display_name": "Python 3 (ipykernel)",
   "language": "python",
   "name": "python3"
  },
  "language_info": {
   "codemirror_mode": {
    "name": "ipython",
    "version": 3
   },
   "file_extension": ".py",
   "mimetype": "text/x-python",
   "name": "python",
   "nbconvert_exporter": "python",
   "pygments_lexer": "ipython3",
   "version": "3.10.4"
  }
 },
 "nbformat": 4,
 "nbformat_minor": 5
}
